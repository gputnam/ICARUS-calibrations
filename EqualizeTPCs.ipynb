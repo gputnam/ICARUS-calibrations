{
 "cells": [
  {
   "cell_type": "code",
   "execution_count": null,
   "id": "a761f156",
   "metadata": {},
   "outputs": [],
   "source": [
    "%load_ext autoreload\n",
    "%autoreload 2\n",
    "\n",
    "import os\n",
    "import uproot\n",
    "import matplotlib.pyplot as plt\n",
    "import matplotlib.colors as colors\n",
    "import matplotlib.cbook as cbook\n",
    "from matplotlib.legend_handler import HandlerLine2D, HandlerTuple\n",
    "import numpy as np\n",
    "import pandas as pd\n",
    "from decimal import Decimal\n",
    "from scipy.stats import norm\n",
    "from scipy.optimize import curve_fit\n",
    "from scipy import stats\n",
    "import datetime as dt\n",
    "import scipy.optimize\n",
    "import landau\n",
    "from scipy.interpolate import CubicSpline, interp2d\n",
    "from scipy.integrate import quad\n",
    "from scipy.special import erf\n",
    "from numpy import linalg\n",
    "\n",
    "import importlib\n",
    "\n",
    "# local imports\n",
    "from lib.constants import *"
   ]
  },
  {
   "cell_type": "code",
   "execution_count": null,
   "id": "068b00c1",
   "metadata": {},
   "outputs": [],
   "source": [
    "dosave = True\n",
    "savedata = False\n",
    "\n",
    "plt.rcParams.update({'font.size': 14})\n",
    "plotqual = \"runa_\"\n",
    "savedir = \"./plots_6_28_23/%s\" % plotqual\n",
    "plottitle = \"Run A\"\n",
    "tpcnames = [\"EE\", \"EW\", \"WE\", \"WW\"]\n",
    "\n",
    "# datadir = \"/icarus/data/users/gputnam/drift-normalization/\"\n",
    "datadir = \"/icarus/data/users/gputnam/calib-data/outputs/\""
   ]
  },
  {
   "cell_type": "code",
   "execution_count": null,
   "id": "0ea2242d",
   "metadata": {},
   "outputs": [],
   "source": [
    "# Reference df\n",
    "mpv_df0 = pd.read_hdf(\"/icarus/data/users/gputnam/calib-data/dfs/mpvs_muon_Run1.df\")"
   ]
  },
  {
   "cell_type": "code",
   "execution_count": null,
   "id": "1268ea93",
   "metadata": {},
   "outputs": [],
   "source": [
    "mpv_df = pd.read_hdf(\"/icarus/data/users/gputnam/calib-data/dfs/mpvs_muon_RunA.df\")"
   ]
  },
  {
   "cell_type": "code",
   "execution_count": null,
   "id": "dda4fd81",
   "metadata": {},
   "outputs": [],
   "source": [
    "mpv_df"
   ]
  },
  {
   "cell_type": "code",
   "execution_count": null,
   "id": "2fe7a1ae",
   "metadata": {},
   "outputs": [],
   "source": [
    "pitches = mpv_df.pitch.unique()\n",
    "drifts = mpv_df.tdrift.unique()\n",
    "rrs = np.array(list(reversed(mpv_df.rr.unique())))\n",
    "names = [\n",
    "    \"TPC_EE\",\n",
    "    \"TPC_EW\",\n",
    "    \"TPC_WE\",\n",
    "    \"TPC_WW\"\n",
    "]\n",
    "# names = [\"MC\"]"
   ]
  },
  {
   "cell_type": "code",
   "execution_count": null,
   "id": "a9f2920c",
   "metadata": {},
   "outputs": [],
   "source": [
    "rrmin = 200"
   ]
  },
  {
   "cell_type": "code",
   "execution_count": null,
   "id": "d8727734",
   "metadata": {},
   "outputs": [],
   "source": [
    "# dQdx binning\n",
    "bins = np.linspace(200, 4000, 38*4+1)\n",
    "bin_centers = (bins[1:] + bins[:-1]) / 2.\n",
    "\n",
    "def landau_gaus(X, *p):\n",
    "    mpv, eta, sigma, A = p\n",
    "    sigma = np.minimum(sigma, 100*eta)\n",
    "    return landau.landau.gauss_landau(X, mpv, eta, sigma, A)"
   ]
  },
  {
   "cell_type": "code",
   "execution_count": null,
   "id": "4166286c",
   "metadata": {},
   "outputs": [],
   "source": [
    "ifig = 0\n",
    "\n",
    "for tdrift in drifts:\n",
    "    plt.figure(ifig)\n",
    "\n",
    "    for n in names:\n",
    "        when = (mpv_df.tdrift == tdrift) & (mpv_df[n]) & (mpv_df.rr > rrmin)\n",
    "        \n",
    "        plt.plot(rrs[rrs > rrmin], mpv_df.phi[when], label=n)\n",
    "\n",
    "    plt.ylabel(\"$\\\\langle \\\\phi \\\\rangle$\")\n",
    "    plt.xlabel(\"Residual Range [cm]\")\n",
    "\n",
    "    ifig += 1"
   ]
  },
  {
   "cell_type": "code",
   "execution_count": null,
   "id": "e56e1b6c",
   "metadata": {},
   "outputs": [],
   "source": [
    "ifig = 0\n",
    "\n",
    "for tdrift in drifts:\n",
    "    plt.figure(ifig)\n",
    "\n",
    "    for n in names:\n",
    "        when = (mpv_df.tdrift == tdrift) & (mpv_df[n]) & (mpv_df.rr > rrmin)\n",
    "        \n",
    "        plt.errorbar(rrs[rrs > rrmin], mpv_df.mpv[when], mpv_df.mpv_err[when], \n",
    "                     label=n[-2:], linestyle=\"none\", marker=\".\")\n",
    "\n",
    "    plt.ylabel(\"dQ/dx [ADDC/cm]\")\n",
    "    plt.xlabel(\"Residual Range [cm]\")\n",
    "    plt.title(\"%s $t_\\\\mathrm{drift}: %i\\\\mu$s\" % (plottitle, tdrift))\n",
    "    ifig += 1\n",
    "    plt.ylim([plt.ylim()[0]-7, plt.ylim()[1]])\n",
    "    plt.tight_layout()\n",
    "    h, l = plt.gca().get_legend_handles_labels()\n",
    "    ph = [plt.plot([],marker=\"\", ls=\"\")[0]]\n",
    "    handles = ph + h\n",
    "    labels = [\"TPC: \"] + l\n",
    "    leg = plt.legend(handles, labels, ncol=5, \n",
    "                   loc='lower center', columnspacing=0.8, handletextpad=0.4)\n",
    "    \n",
    "    if dosave:\n",
    "        plt.savefig(savedir + \"chargeratios_drift%i.pdf\" % int(tdrift))"
   ]
  },
  {
   "cell_type": "code",
   "execution_count": null,
   "id": "dc6cfa58",
   "metadata": {},
   "outputs": [],
   "source": [
    "# Compute the gain ratio to normalize against EW\n",
    "name0 = \"TPC_EW\""
   ]
  },
  {
   "cell_type": "code",
   "execution_count": null,
   "id": "86b5bc20",
   "metadata": {},
   "outputs": [],
   "source": [
    "ratios = []\n",
    "for n in names:\n",
    "    mpvdf0 = mpv_df0[mpv_df0[name0] & (mpv_df0.rr > rrmin)].sort_values([\"tdrift\", \"rr\"])\n",
    "    mpvdfn = mpv_df[mpv_df[n] & (mpv_df.rr > rrmin)].sort_values([\"tdrift\", \"rr\"])\n",
    "    \n",
    "    ratio = np.mean(mpvdf0.mpv.values / mpvdfn.mpv.values)\n",
    "    ratios.append(ratio)\n",
    "    print(n, ratio)"
   ]
  },
  {
   "cell_type": "code",
   "execution_count": null,
   "id": "2b015022",
   "metadata": {},
   "outputs": [],
   "source": [
    "prop_cycle = plt.rcParams['axes.prop_cycle']\n",
    "colors = prop_cycle.by_key()['color']"
   ]
  },
  {
   "cell_type": "code",
   "execution_count": null,
   "id": "fbf74d30",
   "metadata": {},
   "outputs": [],
   "source": [
    "for i, n in enumerate(names):\n",
    "    means = []\n",
    "    errs = []\n",
    "    for tdrift in drifts:\n",
    "        when = (mpv_df.tdrift == tdrift) & (mpv_df[n]) & (mpv_df.rr > rrmin)\n",
    "        when0 = (mpv_df0.tdrift == tdrift) & (mpv_df0[name0]) & (mpv_df0.rr > rrmin)\n",
    "        \n",
    "        mpv_mean = np.mean(mpv_df.mpv[when]) / np.mean(mpv_df0.mpv[when0])\n",
    "        mpv_err = np.sqrt(1/np.sum(1/mpv_df.mpv_err[when]**2))  / np.mean(mpv_df0.mpv[when0])\n",
    "        means.append(mpv_mean)    \n",
    "        errs.append(mpv_err)\n",
    "        \n",
    "    plt.errorbar(drifts, means, yerr=errs, label=n[-2:],\n",
    "                linestyle=\"none\", marker=\".\", color=colors[i])\n",
    "\n",
    "    plt.axhline([1/ratios[i]], color=colors[i])\n",
    "    \n",
    "plt.ylim([plt.ylim()[0]-0.01, plt.ylim()[1]])\n",
    "\n",
    "h, l = plt.gca().get_legend_handles_labels()\n",
    "ph = [plt.plot([],marker=\"\", ls=\"\")[0]]\n",
    "handles = ph + h\n",
    "labels = [\"TPC: \"] + l\n",
    "leg = plt.legend(handles, labels, ncol=5, \n",
    "               loc='lower center', columnspacing=0.8, handletextpad=0.4)\n",
    "\n",
    "plt.title(plottitle)    \n",
    "plt.xlabel(\"Drift Time [$\\\\mu$s]\")\n",
    "plt.ylabel(\"dQ/dx Relative Scale\")\n",
    "\n",
    "if dosave:\n",
    "    plt.savefig(savedir + \"tpc_equalization.pdf\")"
   ]
  },
  {
   "cell_type": "code",
   "execution_count": null,
   "id": "a7a3c34d",
   "metadata": {},
   "outputs": [],
   "source": [
    "if savedata:\n",
    "    with open(datadir + \"tpc_ratio_RunA.txt\", \"w\") as f:\n",
    "        for n, r in zip(names, ratios):\n",
    "            f.write(\"%s %.4f\\n\" % (n[-2:], r))"
   ]
  },
  {
   "cell_type": "code",
   "execution_count": null,
   "id": "ff62401c",
   "metadata": {},
   "outputs": [],
   "source": []
  }
 ],
 "metadata": {
  "kernelspec": {
   "display_name": "Python 3 (ipykernel)",
   "language": "python",
   "name": "python3"
  },
  "language_info": {
   "codemirror_mode": {
    "name": "ipython",
    "version": 3
   },
   "file_extension": ".py",
   "mimetype": "text/x-python",
   "name": "python",
   "nbconvert_exporter": "python",
   "pygments_lexer": "ipython3",
   "version": "3.9.2"
  }
 },
 "nbformat": 4,
 "nbformat_minor": 5
}
