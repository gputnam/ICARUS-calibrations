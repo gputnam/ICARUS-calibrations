{
 "cells": [
  {
   "cell_type": "code",
   "execution_count": null,
   "id": "0",
   "metadata": {},
   "outputs": [],
   "source": [
    "import uproot\n",
    "import matplotlib.pyplot as plt \n",
    "import pandas as pd \n",
    "import numpy as np \n",
    "import matplotlib as mpl\n",
    "from scipy.optimize import curve_fit\n",
    "\n",
    "from scipy.interpolate import interp1d\n",
    "\n",
    "from scipy.interpolate import CubicSpline, RegularGridInterpolator\n"
   ]
  },
  {
   "cell_type": "code",
   "execution_count": null,
   "id": "1",
   "metadata": {},
   "outputs": [],
   "source": [
    "1+1"
   ]
  },
  {
   "cell_type": "code",
   "execution_count": null,
   "id": "2",
   "metadata": {},
   "outputs": [],
   "source": [
    "mpl.rc('font', size=14)\n",
    "\n",
    "dosave = True\n",
    "plotqual = \"data_\"\n",
    "savedir = \"plots_11_14_23/%s\" % plotqual\n",
    "# DATA\n",
    "filedir = \"/icarus/data/users/gputnam/DMCP2023G/data/\"\n",
    "f = filedir + \"numiRun1_unblind_reprodC_chi2u40_chi2p80_protonhit.df\"\n",
    "\n",
    "# # MC\n",
    "# filedir = \"/icarus/data/users/gputnam/DMCP2023G/mc/\"\n",
    "# f = filedir + \"mcnuphase2_protonhit.df\"\n",
    "\n",
    "isMC = False\n",
    "\n",
    "import warnings\n",
    "\n",
    "warnings.simplefilter(action='ignore', category=pd.errors.PerformanceWarning)\n",
    "\n",
    "plt.rcParams.update({'font.size': 14})\n",
    "colors = plt.rcParams['axes.prop_cycle'].by_key()['color']\n",
    "\n",
    "THXW_CORRECT = True\n",
    "cut_TPCEE = False"
   ]
  },
  {
   "cell_type": "code",
   "execution_count": null,
   "id": "3",
   "metadata": {},
   "outputs": [],
   "source": [
    "# Constants\n",
    "if isMC:\n",
    "    LAr_density_gmL = 1.389875\n",
    "else:\n",
    "    LAr_density_gmL = 1.3926\n",
    "# RECOMBINATION\n",
    "\n",
    "# ArgoNeuT params\n",
    "MODA = 0.930\n",
    "MODB = 0.212\n",
    "Wion = 1e3 / 4.237e7\n",
    "\n",
    "if isMC: # MC Efield\n",
    "    Efield = 0.494\n",
    "else: # data efield\n",
    "    Efield = 0.4926\n",
    "\n",
    "def recombination(dEdx, A=MODA, B=MODB, E=Efield):\n",
    "    alpha = A\n",
    "    beta = B / (LAr_density_gmL * E)\n",
    "\n",
    "    dQdx = np.log(alpha + dEdx*beta) / (Wion * beta)\n",
    "    return dQdx\n",
    "\n",
    "def recombination_cor(dQdx, A=MODA, B=MODB, E=Efield):\n",
    "    alpha = A\n",
    "    beta = B / (LAr_density_gmL * E)\n",
    "\n",
    "    dEdx = (np.exp(dQdx*Wion*beta)- alpha) / beta\n",
    "\n",
    "    return dEdx\n"
   ]
  },
  {
   "cell_type": "code",
   "execution_count": null,
   "id": "4",
   "metadata": {},
   "outputs": [],
   "source": [
    "# MEAN ENEGY LOSS\n",
    "mass_electron = 0.5109989461 # MeV https://pdg.lbl.gov/2020/listings/rpp2020-list-K-plus-minus.pdf\n",
    "muon_mass = 105.6583745 # MeV https://pdg.lbl.gov/2020/listings/rpp2020-list-muon.pdf\n",
    "\n",
    "proton_mass = 938.272\n",
    "Zval = 18.0\n",
    "Aval = 39.948\n",
    "\n",
    "if isMC:\n",
    "    Ival = 188e-6\n",
    "else:\n",
    "    Ival = 197.0e-6\n",
    "\n",
    "Ar_molar_mass = 39.9623\n",
    "Ar_ZA = 18. / Ar_molar_mass\n",
    "Relec = 2.817940 * 1e-13\n",
    "mole = 6.0221409*1e23\n",
    "Kfactor = 4*np.pi*mole*Relec**2*mass_electron # 0.307075\n",
    "\n",
    "def Calc_MEAN_DEDX(T, thisIval=Ival, mass=proton_mass, z=1):\n",
    "    gamma = (mass+T)/mass\n",
    "    beta = np.power(1.0-np.power(gamma,-2.0),0.5)\n",
    "    Wmax = (2.0*mass_electron*np.power(beta,2.0)*np.power(gamma,2.0))/(1.0+2.0*gamma*(mass_electron/mass)+np.power(mass_electron/mass,2.0))\n",
    "\n",
    "    # Medium energy \n",
    "    dens_factor = 2.0*np.log(10)*np.log10(beta*gamma)-5.2146+0.19559*np.power(3.0-np.log10(beta*gamma),3.0)\n",
    "    # low energy\n",
    "    dens_factor[np.log10(beta*gamma) < 0.2] = 0.\n",
    "    dens_factor[beta < 1e-6] = 0.\n",
    "    # high energy\n",
    "    dens_factor[np.log10(beta*gamma) > 3.0] = (2.0*np.log(10)*np.log10(beta*gamma)-5.2146)[np.log10(beta*gamma) > 3.0]\n",
    "    dEdx_mean = z*LAr_density_gmL*Kfactor*(Zval/Aval)*np.power(beta,-2.0)*(0.5*np.log(2.0*mass_electron*np.power(beta,2.0)*np.power(gamma,2.0)*Wmax*np.power(thisIval,-2.0))-np.power(beta,2.0)-dens_factor/2.0)\n",
    "\n",
    "    return dEdx_mean\n",
    "\n",
    "def Calc_RR_points(KE, dRR=0.01, mass=muon_mass, z=1, thisIval=Ival, do_recombine=False):\n",
    "    thisKE = KE\n",
    "    KE_points = [0.]\n",
    "    RR_points = [0.]\n",
    "\n",
    "    while thisKE > 0.0:\n",
    "        deltaKE = Calc_MEAN_DEDX(np.array([thisKE]), mass=mass, z=z, thisIval=thisIval) * dRR\n",
    "        RR_points.append(RR_points[-1] + dRR)\n",
    "        deltaKE = deltaKE[0]\n",
    "        thisKE -= deltaKE\n",
    "        if do_recombine:\n",
    "            deltaKE = recombination(deltaKE/dRR)*dRR\n",
    "\n",
    "        KE_points.append(KE_points[-1]+deltaKE)\n",
    "\n",
    "    # KE_points = np.array(list(reversed(KE_points[:-1])))\n",
    "    KE_points = np.array(KE_points)\n",
    "    KE_points = np.flip(KE_points[-1] - KE_points)\n",
    "    RR_points = np.array(RR_points)\n",
    "\n",
    "    return KE_points, RR_points\n",
    "\n",
    "def Calc_Q2KE_points(KE, recomb, dQ0=500, mass=muon_mass, z=1):\n",
    "    thisKE = KE\n",
    "    KE_points = []\n",
    "    Q_points = []\n",
    "    while thisKE > 0.0:\n",
    "        dEdx = Calc_MEAN_DEDX(np.array([thisKE]), mass=mass, z=1)\n",
    "        dQdx = recomb(dEdx)\n",
    "        dx = dQ0/dQdx[0]\n",
    "        deltaKE = dEdx * dx\n",
    "        dQ = dQdx*dx\n",
    "        Q_points.append(dQ)\n",
    "        thisKE -= deltaKE[0]\n",
    "        KE_points.append(thisKE)\n",
    "\n",
    "    KE_points = np.flip(np.array(KE_points[:-1]), axis=0)\n",
    "    Q_points = np.cumsum(np.flip(np.array(Q_points[:-1]), axis=0), axis=0)\n",
    "\n",
    "    return KE_points, Q_points\n"
   ]
  },
  {
   "cell_type": "code",
   "execution_count": null,
   "id": "5",
   "metadata": {},
   "outputs": [],
   "source": [
    "# Range to Energy\n",
    "KE_points_max = 1000.\n",
    "KE_points, RR_points = Calc_RR_points(KE_points_max, mass=muon_mass)\n",
    "RR2KE_mu = CubicSpline(RR_points, KE_points)\n",
    "\n",
    "KE_points, RR_points = Calc_RR_points(KE_points_max, mass=proton_mass)\n",
    "RR2KE_p = CubicSpline(RR_points, KE_points)\n"
   ]
  },
  {
   "cell_type": "code",
   "execution_count": null,
   "id": "6",
   "metadata": {},
   "outputs": [],
   "source": [
    "def dedx(dqdx, gain=1., A=MODA, B=MODB):\n",
    "    return recombination_cor(dqdx*gain, A, B).rename(\"dedx\")\n",
    "\n",
    "def dedxdf(hitdf, gain=1, A=0.93, dqdxname=\"dqdx\", RR_QE=5):\n",
    "    df = pd.concat([dedx(hitdf[dqdxname], gain=gain, A=A, B=hitdf.beta), hitdf[dqdxname].rename(\"dqdx\"), hitdf.rr, hitdf.pitch], axis=1)\n",
    "\n",
    "    # get min/max RR\n",
    "    minrr = df.groupby(level=list(range(df.index.nlevels-1))).rr.min().rename(\"minrr\")\n",
    "    maxrr = df.groupby(level=list(range(df.index.nlevels-1))).rr.max().rename(\"maxrr\")\n",
    "\n",
    "    df = df.join(minrr)\n",
    "    df = df.join(maxrr)\n",
    "\n",
    "    # Compute the charge-energy\n",
    "    if RR_QE > 0:\n",
    "        qsum = (hitdf[dqdxname]*hitdf.pitch*(hitdf.rr<RR_QE))[::-1].groupby(level=list(range(df.index.nlevels-1))).cumsum()\n",
    "        Bs = hitdf.beta.groupby(level=list(range(df.index.nlevels-1))).first().values\n",
    "        def this_recomb(dEdx):\n",
    "            return recombination(dEdx, A=A, B=Bs)/gain\n",
    "        KEs, Qs = Calc_Q2KE_points(float(RR2KE_p(RR_QE*50)), this_recomb, mass=proton_mass)\n",
    "\n",
    "        i_func = 0\n",
    "        def lookup_E(x):\n",
    "            nonlocal i_func\n",
    "            ind = np.searchsorted(Qs[:, i_func], x)\n",
    "            E = KEs[ind]\n",
    "            i_func += 1\n",
    "            return E\n",
    "\n",
    "        q_ke_p = qsum.groupby(level=list(range(df.index.nlevels-1))).transform(lookup_E)\n",
    "        q_ke_p.name = \"qke_p\"\n",
    "        df = df.join(q_ke_p)\n",
    "\n",
    "    return df\n",
    "\n"
   ]
  },
  {
   "cell_type": "code",
   "execution_count": null,
   "id": "7",
   "metadata": {},
   "outputs": [],
   "source": [
    "def emb_beta(phi, beta90=0.205, R=1.25):\n",
    "    phirad = phi*np.pi/180\n",
    "    return beta90 / np.sqrt(np.sin(phirad)**2 + np.cos(phirad)**2/R**2)\n",
    "\n",
    "if isMC:\n",
    "    ALPHA = 0.93\n",
    "    GAIN = 78.1\n",
    "    \n",
    "    # same in either case\n",
    "    GAIN_GAINFIT = 78.1\n",
    "    \n",
    "else:\n",
    "    ALPHA = 0.906\n",
    "    GAIN = 75.1\n",
    "    \n",
    "    GAIN_GAINFIT = 78.9"
   ]
  },
  {
   "cell_type": "code",
   "execution_count": null,
   "id": "8",
   "metadata": {},
   "outputs": [],
   "source": [
    "ex_phis = np.array([66.8, 0, 90])\n",
    "ex_betas = emb_beta(ex_phis)\n",
    "\n",
    "for i,(B,P) in enumerate(zip(ex_betas, ex_phis)):\n",
    "    def this_recomb(dEdx):\n",
    "        return recombination(dEdx, A=ALPHA, B=B)/GAIN\n",
    "\n",
    "    KEs, Qs = Calc_Q2KE_points(200, this_recomb, mass=proton_mass)\n",
    "    \n",
    "    ss = \" (NuMI Beam)\" if i == 0 else \"\"\n",
    "    \n",
    "    plt.plot(Qs[KEs > 10], KEs[KEs > 10], label=\"$\\\\phi: %.0f^\\\\circ$%s\" % (P, ss))\n",
    "    plt.legend(title=\"Proton Angle\")\n",
    "    \n",
    "    plt.xlabel(\"Charge [$e^-$]\")\n",
    "    plt.ylabel(\"Kinetic Energy [MeV]\")\n",
    "#     plt.yscale(\"log\")\n",
    "#     plt.xscale(\"log\")\n",
    "\n",
    "plt.tight_layout()\n",
    "if dosave:\n",
    "    plt.savefig(savedir + \"charge_to_energy_map.pdf\")"
   ]
  },
  {
   "cell_type": "code",
   "execution_count": null,
   "id": "9",
   "metadata": {},
   "outputs": [],
   "source": [
    "data = pd.read_hdf(f, key=\"phit\")"
   ]
  },
  {
   "cell_type": "code",
   "execution_count": null,
   "id": "10",
   "metadata": {},
   "outputs": [],
   "source": [
    "data = data[data.rr < 30].copy()\n",
    "data"
   ]
  },
  {
   "cell_type": "code",
   "execution_count": null,
   "id": "11",
   "metadata": {},
   "outputs": [],
   "source": [
    "# data.columns = [c[1] if isinstance(c, tuple) else c for c in data.columns]"
   ]
  },
  {
   "cell_type": "code",
   "execution_count": null,
   "id": "12",
   "metadata": {},
   "outputs": [],
   "source": [
    "data[\"itpc\"] = data.cryostat*2 + data.tpc // 2"
   ]
  },
  {
   "cell_type": "code",
   "execution_count": null,
   "id": "13",
   "metadata": {},
   "outputs": [],
   "source": [
    "data[\"tpcEE\"] = data.itpc == 0\n",
    "data[\"tpcEW\"] = data.itpc == 1\n",
    "data[\"tpcWE\"] = data.itpc == 2\n",
    "data[\"tpcWW\"] = data.itpc == 3"
   ]
  },
  {
   "cell_type": "code",
   "execution_count": null,
   "id": "14",
   "metadata": {},
   "outputs": [],
   "source": [
    "def fid(data, iny=20, inz=50, inxcathode=15, inxanode=10):\n",
    "    ymax = 134\n",
    "    ymin = -180\n",
    "    \n",
    "    zmin = -900\n",
    "    zmax = 900\n",
    "    \n",
    "    # per-TPC xmin, xmax\n",
    "    xmin0 = -358.49\n",
    "    xmax0 = -210.29\n",
    "    xmin1 = -210.14\n",
    "    xmax1 = -61.94\n",
    "    \n",
    "    xmin2 = 61.94\n",
    "    xmax2 = 210.14\n",
    "    xmin3 = 210.29\n",
    "    xmax3 = 358.49\n",
    "    \n",
    "    fidX = ((data.x > xmin0 + inxanode) & (data.x < xmax0 - inxcathode)) |\\\n",
    "           ((data.x > xmin1 + inxcathode) & (data.x < xmax1 - inxanode)) |\\\n",
    "           ((data.x > xmin2 + inxanode) & (data.x < xmax2 - inxcathode)) |\\\n",
    "           ((data.x > xmin3 + inxcathode) & (data.x < xmax3 - inxanode))\n",
    "    \n",
    "    fid = (data.y > ymin + iny) & (data.y < ymax - iny)\\\n",
    "        & (data.z < zmax - inz) & (data.z > zmin + inz)\\\n",
    "        & fidX\n",
    "    \n",
    "    if not isMC:\n",
    "        # Cut out some problem regions in the detector\n",
    "        fid = fid & (np.abs(data.z) > 10)\n",
    "\n",
    "        # TPC EW -- not actually that bad\n",
    "#         bad_tpcEW = data.tpcEW & (data.z > 700) & (data.y < 0)\n",
    "        bad_tpcEW = False\n",
    "\n",
    "        # TPC WW\n",
    "        bad_tpcWW = data.tpcWW & (data.y > 80) & (data.z > 0)\n",
    "\n",
    "        fid = fid & ~bad_tpcEW & ~bad_tpcWW\n",
    "        \n",
    "    if cut_TPCEE: # is TPC EE borked?\n",
    "        fid = fid & ~data.tpcEE\n",
    "    \n",
    "    return fid"
   ]
  },
  {
   "cell_type": "code",
   "execution_count": null,
   "id": "15",
   "metadata": {},
   "outputs": [],
   "source": [
    "data[\"fid\"] = fid(data)"
   ]
  },
  {
   "cell_type": "code",
   "execution_count": null,
   "id": "16",
   "metadata": {},
   "outputs": [],
   "source": [
    "if (\"allfid\", \"\") in data.columns:\n",
    "    del data[(\"allfid\", \"\")]\n",
    "\n",
    "data = data.join(data.fid.groupby(level=[0,1,2]).all().rename((\"allfid\", \"\")))"
   ]
  },
  {
   "cell_type": "code",
   "execution_count": null,
   "id": "17",
   "metadata": {},
   "outputs": [],
   "source": [
    "if isMC:\n",
    "    data[\"dqdx_nom\"] = data.integral / data.pitch\n",
    "else:\n",
    "    data[\"dqdx_nom\"] = data.dqdx\n",
    "    \n",
    "data[\"phi\"] = np.arccos(np.abs(data.dir_x))*180/np.pi\n",
    "data[\"thxw\"] = np.abs(np.arctan(data.dir_x*data.pitch/0.3)*180/np.pi)\n",
    "\n",
    "data[\"thit\"] = (data.t - 850)*0.4"
   ]
  },
  {
   "cell_type": "code",
   "execution_count": null,
   "id": "18",
   "metadata": {},
   "outputs": [],
   "source": [
    "if isMC:\n",
    "    data.dqdx = data.dqdx_nom * np.exp(data.thit/3e3)"
   ]
  },
  {
   "cell_type": "code",
   "execution_count": null,
   "id": "19",
   "metadata": {},
   "outputs": [],
   "source": [
    "# Whether to do angle correction\n",
    "if THXW_CORRECT:\n",
    "    thxws = np.array([5, 10, 20, 30, 40, 50, 60, 70])\n",
    "    if \"thxw_bin\" in data.columns:\n",
    "        del data[\"thxw_bin\"]\n",
    "    data[\"thxw_bin\"] = np.searchsorted(thxws, data.thxw.values) - 1\n",
    "    data = data[(data.thxw_bin >= 0 ) & (data.thxw_bin < (len(thxws)-1))].copy()\n",
    "    \n",
    "    if isMC:\n",
    "        correction = np.array([1.        , 0.99720325, 0.99156045, 0.98546707, 0.9793954 ,\n",
    "               0.97420377, 0.97335549])\n",
    "    else:\n",
    "        correction = np.array([1.        , 0.99610562, 0.99034266, 0.98329818, 0.97787762,\n",
    "               0.97512796, 0.97599466])\n",
    "        \n",
    "    data.dqdx = data.dqdx / correction[data.thxw_bin]"
   ]
  },
  {
   "cell_type": "code",
   "execution_count": null,
   "id": "20",
   "metadata": {},
   "outputs": [],
   "source": [
    "# Gain-only calibration"
   ]
  },
  {
   "cell_type": "code",
   "execution_count": null,
   "id": "21",
   "metadata": {},
   "outputs": [],
   "source": [
    "data[\"beta\"] = 0.212"
   ]
  },
  {
   "cell_type": "code",
   "execution_count": null,
   "id": "22",
   "metadata": {},
   "outputs": [],
   "source": [
    "trkhitdedx_nom = dedxdf(data[data.allfid], gain=GAIN_GAINFIT, A=0.93)"
   ]
  },
  {
   "cell_type": "code",
   "execution_count": null,
   "id": "23",
   "metadata": {},
   "outputs": [],
   "source": [
    "if isMC:\n",
    "    data[\"beta\"] = 0.212\n",
    "else:\n",
    "    data[\"beta\"] = emb_beta(data.phi)"
   ]
  },
  {
   "cell_type": "code",
   "execution_count": null,
   "id": "24",
   "metadata": {},
   "outputs": [],
   "source": [
    "trkhitdedx_ang = dedxdf(data[data.allfid], gain=GAIN, A=ALPHA)"
   ]
  },
  {
   "cell_type": "code",
   "execution_count": null,
   "id": "25",
   "metadata": {},
   "outputs": [],
   "source": [
    "dedxdf_tosave = trkhitdedx_ang.loc[data.allfid, [\"dedx\", \"rr\"]].reset_index(drop=True)\n",
    "dedxdf_tosave"
   ]
  },
  {
   "cell_type": "code",
   "execution_count": null,
   "id": "26",
   "metadata": {},
   "outputs": [],
   "source": [
    "if dosave:\n",
    "    dedxdf_tosave.to_hdf(savedir + \"proton_dedx.df\", key=\"dedx\")"
   ]
  },
  {
   "cell_type": "code",
   "execution_count": null,
   "id": "27",
   "metadata": {},
   "outputs": [],
   "source": [
    "def erange_p(hitdf):\n",
    "    rangegroup = hitdf.maxrr.groupby(level=list(range(hitdf.index.nlevels-1))).first()\n",
    "    return pd.Series(RR2KE_p(rangegroup), rangegroup.index)\n",
    "\n",
    "def ecal(hitdf):\n",
    "    return (hitdf.dedx*hitdf.pitch).groupby(level=list(range(hitdf.index.nlevels-1))).sum()\n",
    "\n",
    "def ecal_p(hitdf, rrcut=2):\n",
    "    Q_E = (hitdf.qke_p*(hitdf.rr < rrcut)).groupby(level=list(range(hitdf.index.nlevels-1))).max()\n",
    "    R_E = (hitdf.dedx*hitdf.pitch*(hitdf.rr>=rrcut)).groupby(level=list(range(hitdf.index.nlevels-1))).sum()\n",
    "    return Q_E + R_E"
   ]
  },
  {
   "cell_type": "code",
   "execution_count": null,
   "id": "28",
   "metadata": {},
   "outputs": [],
   "source": [
    "erange_p_v = erange_p(trkhitdedx_nom)"
   ]
  },
  {
   "cell_type": "code",
   "execution_count": null,
   "id": "29",
   "metadata": {},
   "outputs": [],
   "source": [
    "ecal_nom = ecal(trkhitdedx_nom)\n",
    "ecal_p_nom = ecal_p(trkhitdedx_nom, rrcut=3)"
   ]
  },
  {
   "cell_type": "code",
   "execution_count": null,
   "id": "30",
   "metadata": {},
   "outputs": [],
   "source": [
    "ecal_ang = ecal(trkhitdedx_ang)\n",
    "ecal_p_ang = ecal_p(trkhitdedx_ang, rrcut=3)"
   ]
  },
  {
   "cell_type": "code",
   "execution_count": null,
   "id": "31",
   "metadata": {},
   "outputs": [],
   "source": [
    "etrue = data[data.fid].truth.h_e.groupby(level=[0,1,2, 3]).sum()"
   ]
  },
  {
   "cell_type": "code",
   "execution_count": null,
   "id": "32",
   "metadata": {},
   "outputs": [],
   "source": [
    "widebins = ((np.linspace(-1, 1, 21) - 0.05) / 2)[1:]\n",
    "tightbins = ((np.linspace(-1, 1, 21) - 0.05) / 4)[1:]"
   ]
  },
  {
   "cell_type": "code",
   "execution_count": null,
   "id": "33",
   "metadata": {},
   "outputs": [],
   "source": [
    "def gauss(X, A, mu, sigma):\n",
    "    return A * np.exp(-(X-mu)**2 / (2*sigma**2))\n",
    "\n",
    "def double_gauss(X, A1, mu1, sigma1, A2, mu2, sigma2):\n",
    "    return A1 * np.exp(-(X-mu1)**2 / (2*sigma1**2)) + A2 * np.exp(-(X-mu2)**2 / (2*sigma2**2)) "
   ]
  },
  {
   "cell_type": "code",
   "execution_count": null,
   "id": "34",
   "metadata": {},
   "outputs": [],
   "source": [
    "def energy_comparison_plot(plt, v, bins, text=\"left\", fit_double=True, energy1=\"calo\", energy2=\"range\"):\n",
    "    centers = (bins[1:] + bins[:-1]) / 2.\n",
    "    binerr = (bins[1:] - bins[:-1]) / 2\n",
    "\n",
    "    XS = np.linspace(bins[0], bins[-1], 1000)\n",
    "    \n",
    "    N,_ = np.histogram(v, bins=bins)\n",
    "    plt.errorbar(centers, N, yerr=np.sqrt(N), xerr=binerr, linestyle=\"none\", marker=\".\", color=\"black\")\n",
    "    \n",
    "    ymax = N.max()\n",
    "    \n",
    "    if fit_double:\n",
    "        p0 = [\n",
    "            ymax/2, 0.0, 0.75,\n",
    "            ymax/2, 0.0, 0.15\n",
    "        ]\n",
    "\n",
    "        popt, perr = curve_fit(double_gauss, centers, N, p0=p0, maxfev=10_000)\n",
    "\n",
    "        p1 = popt[:3]\n",
    "        p2 = popt[-3:]\n",
    "        if p1[0] < p2[0]:\n",
    "            p1 = popt[-3:]\n",
    "            p2 = popt[:3]\n",
    "\n",
    "        peak_val = np.max(double_gauss(XS, *popt))\n",
    "        peak_ind = np.argmax(double_gauss(XS, *popt))\n",
    "        half_lo = XS[np.argmin(np.abs(peak_val/2 - double_gauss(XS[:peak_ind], *popt)))]\n",
    "        half_hi = XS[peak_ind + np.argmin(np.abs(peak_val/2 - double_gauss(XS[peak_ind:], *popt)))]    \n",
    "        FWHM = half_hi - half_lo\n",
    "\n",
    "        plt.plot(XS, double_gauss(XS, *popt))\n",
    "        plt.plot(XS, gauss(XS, *p1), color=\"gray\", linestyle=\":\")\n",
    "        plt.plot(XS, gauss(XS, *p2), color=\"gray\", linestyle=\"--\")        \n",
    "    else:\n",
    "        p0 = [\n",
    "            ymax, 0.0, 0.05,\n",
    "        ]\n",
    "\n",
    "        popt, perr = curve_fit(gauss, centers, N, p0=p0, maxfev=10_000)\n",
    "\n",
    "        p1 = popt[:3]\n",
    "\n",
    "        peak_val = np.max(gauss(XS, *popt))\n",
    "        peak_ind = np.argmax(gauss(XS, *popt))\n",
    "        half_lo = XS[np.argmin(np.abs(peak_val/2 - gauss(XS[:peak_ind], *popt)))]\n",
    "        half_hi = XS[peak_ind + np.argmin(np.abs(peak_val/2 - gauss(XS[peak_ind:], *popt)))]    \n",
    "        FWHM = half_hi - half_lo\n",
    "\n",
    "        plt.plot(XS, gauss(XS, *popt))\n",
    "    \n",
    "    trans = plt.gca().get_yaxis_transform()\n",
    "    \n",
    "    if text == \"left\":\n",
    "        x_lo = 0.025\n",
    "        x_hi = 0.35\n",
    "        x_center = 0.1\n",
    "        x_fwhm = 0.7\n",
    "    else:\n",
    "        x_lo = 0.6\n",
    "        x_hi = 0.975\n",
    "        x_center = 0.7\n",
    "        x_fwhm = 0.05\n",
    "    \n",
    "    if fit_double:\n",
    "        plt.axhline(ymax*0.8, x_lo, x_hi, color=\"gray\", linestyle=\":\")    \n",
    "        plt.text(x_lo, ymax*0.85, \"$\\\\mu_1: %.1f$%%, $\\\\sigma_1: %.1f$%%\" % (p1[1]*100, np.abs(p1[2])*100),\n",
    "            transform=trans, fontsize=12)\n",
    "        \n",
    "        plt.axhline(ymax*0.6, x_lo, x_hi, color=\"gray\", linestyle=\"--\")    \n",
    "        \n",
    "        plt.text(x_lo, ymax*0.65, \"$\\\\mu_2: %.1f$%%, $\\\\sigma_2: %.1f$%%\" % (p2[1]*100, np.abs(p2[2])*100),\n",
    "                transform=trans, fontsize=12)\n",
    "    \n",
    "        plt.text(x_center, ymax*0.5, \"$N_1/N_2: %.2f$\" % (p1[0] / p2[0]),\n",
    "                transform=trans, fontsize=12)\n",
    "    else:\n",
    "        plt.text(x_lo, ymax*0.85, \"$\\\\mu: %.1f$%%, $\\\\sigma: %.1f$%%\" % (p1[1]*100, np.abs(p1[2])*100),\n",
    "            transform=trans, fontsize=12)\n",
    "        \n",
    "    plt.text(x_fwhm, 0.9, \"FWHM: %.0f%%\" % (FWHM*100), fontsize=12, transform=plt.gca().transAxes)\n",
    "    \n",
    "    if fit_double:\n",
    "        plt.text(x_lo+0.005, 0.875, \"Double Gaussian Fit\", fontsize=12, transform=plt.gca().transAxes)\n",
    "    else:\n",
    "        plt.text(x_lo+0.005, 0.875, \"Single Gaussian Fit\", fontsize=12, transform=plt.gca().transAxes)\n",
    "        \n",
    "    if isMC:\n",
    "        plt.text(x_fwhm, 0.6, \"ICARUS\\nMC\", fontsize=20, transform=plt.gca().transAxes)\n",
    "    else:\n",
    "        plt.text(x_fwhm, 0.6, \"ICARUS\\nData\", fontsize=20, transform=plt.gca().transAxes)\n",
    "    \n",
    "    plt.xlabel(\"$(E_\\\\mathrm{%s} - E_\\\\mathrm{%s}) / E_\\\\mathrm{%s}$\" % (energy1, energy2, energy2))\n",
    "    plt.ylabel(\"Proton-Like Tracks\")"
   ]
  },
  {
   "cell_type": "code",
   "execution_count": null,
   "id": "35",
   "metadata": {},
   "outputs": [],
   "source": [
    "if isMC:\n",
    "    bins = tightbins\n",
    "else:\n",
    "    bins = widebins"
   ]
  },
  {
   "cell_type": "code",
   "execution_count": null,
   "id": "36",
   "metadata": {},
   "outputs": [],
   "source": [
    "ediff = (ecal_nom - erange_p_v) / erange_p_v\n",
    "\n",
    "energy_comparison_plot(plt, ediff, widebins)\n",
    "plt.title(\"ArgoNeuT Recombination\")\n",
    "\n",
    "if dosave: plt.savefig(savedir + \"proton_Ereco_nominalrecomb.pdf\", bbox_inches=\"tight\")"
   ]
  },
  {
   "cell_type": "code",
   "execution_count": null,
   "id": "37",
   "metadata": {},
   "outputs": [],
   "source": [
    "ediff = (ecal_p_nom - erange_p_v) / erange_p_v\n",
    "\n",
    "energy_comparison_plot(plt, ediff, widebins)\n",
    "plt.title(\"ArgoNeuT Recombination + Q-Tip\")\n",
    "\n",
    "if dosave: plt.savefig(savedir + \"proton_Ereco_nominalrecomb_qtip.pdf\", bbox_inches=\"tight\")"
   ]
  },
  {
   "cell_type": "code",
   "execution_count": null,
   "id": "38",
   "metadata": {},
   "outputs": [],
   "source": [
    "ediff = (ecal_ang - erange_p_v) / erange_p_v\n",
    "\n",
    "energy_comparison_plot(plt, ediff, widebins)\n",
    "plt.title(\"EMB Recombination\")\n",
    "\n",
    "if dosave: plt.savefig(savedir + \"proton_Ereco_angularrecomb.pdf\", bbox_inches=\"tight\")"
   ]
  },
  {
   "cell_type": "code",
   "execution_count": null,
   "id": "39",
   "metadata": {},
   "outputs": [],
   "source": [
    "ediff = (ecal_p_ang - erange_p_v) / erange_p_v\n",
    "\n",
    "energy_comparison_plot(plt, ediff, widebins)\n",
    "plt.title(\"EMB Recombination + Q-Tip\")\n",
    "\n",
    "if dosave: plt.savefig(savedir + \"proton_Ereco_angularrecomb_qtip.pdf\", bbox_inches=\"tight\")"
   ]
  },
  {
   "cell_type": "code",
   "execution_count": null,
   "id": "40",
   "metadata": {},
   "outputs": [],
   "source": [
    "ediff = (erange_p_v - etrue) / etrue\n",
    "\n",
    "energy_comparison_plot(plt, ediff, tightbins, energy1=\"range\", energy2=\"true\")\n",
    "\n",
    "if dosave: plt.savefig(savedir + \"proton_Erange_Etrue.pdf\", bbox_inches=\"tight\")"
   ]
  },
  {
   "cell_type": "code",
   "execution_count": null,
   "id": "41",
   "metadata": {},
   "outputs": [],
   "source": [
    "ediff = (ecal_p_ang - etrue) / etrue\n",
    "\n",
    "energy_comparison_plot(plt, ediff, tightbins, energy1=\"calo\", energy2=\"true\")\n",
    "\n",
    "if dosave: plt.savefig(savedir + \"proton_Ecalo_Etrue.pdf\", bbox_inches=\"tight\")"
   ]
  },
  {
   "cell_type": "code",
   "execution_count": null,
   "id": "42",
   "metadata": {},
   "outputs": [],
   "source": []
  }
 ],
 "metadata": {
  "kernelspec": {
   "display_name": "Python 3 (ipykernel)",
   "language": "python",
   "name": "python3"
  },
  "language_info": {
   "codemirror_mode": {
    "name": "ipython",
    "version": 3
   },
   "file_extension": ".py",
   "mimetype": "text/x-python",
   "name": "python",
   "nbconvert_exporter": "python",
   "pygments_lexer": "ipython3",
   "version": "3.9.2"
  }
 },
 "nbformat": 4,
 "nbformat_minor": 5
}
