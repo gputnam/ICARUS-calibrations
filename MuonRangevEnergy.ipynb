{
 "cells": [
  {
   "cell_type": "code",
   "execution_count": null,
   "id": "0",
   "metadata": {},
   "outputs": [],
   "source": [
    "1+1"
   ]
  },
  {
   "cell_type": "code",
   "execution_count": null,
   "id": "1",
   "metadata": {},
   "outputs": [],
   "source": [
    "%load_ext autoreload\n",
    "%autoreload 2\n",
    "\n",
    "import os\n",
    "import uproot\n",
    "import matplotlib.pyplot as plt\n",
    "import matplotlib.colors as colors\n",
    "import matplotlib.cbook as cbook\n",
    "from matplotlib.legend_handler import HandlerLine2D, HandlerTuple\n",
    "import numpy as np\n",
    "import pandas as pd\n",
    "from decimal import Decimal\n",
    "from scipy.stats import norm\n",
    "from scipy.optimize import curve_fit\n",
    "from scipy import stats\n",
    "import datetime as dt\n",
    "import scipy.optimize\n",
    "import landau\n",
    "from scipy.interpolate import CubicSpline, interp2d\n",
    "from scipy.integrate import quad\n",
    "from scipy.special import erf\n",
    "from numpy import linalg\n",
    "\n",
    "import importlib\n",
    "from multiprocessing import Pool\n",
    "\n",
    "from tqdm.auto import tqdm\n",
    "\n",
    "# local imports\n",
    "from lib.constants import *"
   ]
  },
  {
   "cell_type": "code",
   "execution_count": null,
   "id": "2",
   "metadata": {},
   "outputs": [],
   "source": [
    "dosave = True\n",
    "plt.rcParams.update({'font.size': 14})\n",
    "plotqual = \"data_\"\n",
    "savedir = \"plots_11_14_23/%s\" % plotqual\n",
    "\n",
    "plottitle = \"Run %i\"\n",
    "tpcnames = [\"EE\", \"EW\", \"WE\", \"WW\"]\n",
    "\n",
    "datadir = \"/pnfs/sbn/persistent/users/gputnam/calib-data/outputs/\"\n",
    "filedir = \"/pnfs/sbn/persistent/users/gputnam/calib-data/Run1/\"\n",
    "\n",
    "# datadir = \"/icarus/data/users/gputnam/DMCP2023G/calib-mc/\"\n",
    "# filedir = \"/icarus/data/users/gputnam/DMCP2023G/calib-mc/\"\n",
    "\n",
    "isMC = False\n",
    "\n",
    "savedata = False"
   ]
  },
  {
   "cell_type": "code",
   "execution_count": null,
   "id": "3",
   "metadata": {},
   "outputs": [],
   "source": [
    "files = [f for f in os.listdir(filedir) if f.endswith(\".df\") and f.startswith(\"calib\") and \"anode\" not in f\n",
    "        and \"sce\" not in f and \"old\" not in f and \"numi8\" not in f and \"bnb8\" not in f]\n",
    "\n",
    "if isMC:\n",
    "    files = [\"calib_mcnuphase2.df\"]\n",
    "\n",
    "files"
   ]
  },
  {
   "cell_type": "code",
   "execution_count": null,
   "id": "4",
   "metadata": {},
   "outputs": [],
   "source": [
    "dfs = [pd.read_hdf(filedir + f) for f in files]"
   ]
  },
  {
   "cell_type": "code",
   "execution_count": null,
   "id": "5",
   "metadata": {},
   "outputs": [],
   "source": [
    "offset = 0\n",
    "for i,(fname, df) in enumerate(zip(files, dfs)):\n",
    "    if len(df) == 0: continue\n",
    "        \n",
    "    df[\"itrk\"] = df.index.get_level_values(0) + offset\n",
    "    offset += df.index.get_level_values(0).max() + 1"
   ]
  },
  {
   "cell_type": "code",
   "execution_count": null,
   "id": "6",
   "metadata": {},
   "outputs": [],
   "source": [
    "if not isMC:\n",
    "    todelete = [c for c in dfs[0].columns if \"true_\" in c or \"trueh_\" in c]\n",
    "    todelete += [\"michelE\", \"closest_tdaughter\"]\n",
    "    for df in dfs:\n",
    "        for c in todelete:\n",
    "            del df[c]"
   ]
  },
  {
   "cell_type": "code",
   "execution_count": null,
   "id": "7",
   "metadata": {},
   "outputs": [],
   "source": [
    "data = pd.concat(dfs, ignore_index=True)"
   ]
  },
  {
   "cell_type": "code",
   "execution_count": null,
   "id": "8",
   "metadata": {},
   "outputs": [],
   "source": [
    "del dfs"
   ]
  },
  {
   "cell_type": "code",
   "execution_count": null,
   "id": "9",
   "metadata": {},
   "outputs": [],
   "source": [
    "data.wire = data.wire.astype(\"int16\")"
   ]
  },
  {
   "cell_type": "code",
   "execution_count": null,
   "id": "10",
   "metadata": {},
   "outputs": [],
   "source": [
    "data[\"tpcEE\"] = data.tpcE & (data.cryostat == 0)\n",
    "data[\"tpcEW\"] = ~data.tpcE & (data.cryostat == 0)\n",
    "data[\"tpcWE\"] = data.tpcE & (data.cryostat == 1)\n",
    "data[\"tpcWW\"] = ~data.tpcE & (data.cryostat == 1)"
   ]
  },
  {
   "cell_type": "code",
   "execution_count": null,
   "id": "11",
   "metadata": {},
   "outputs": [],
   "source": [
    "data[\"itpc\"] = -1\n",
    "data.loc[data.tpcEE, \"itpc\"] = 0\n",
    "data.loc[data.tpcEW, \"itpc\"] = 1\n",
    "data.loc[data.tpcWE, \"itpc\"] = 2\n",
    "data.loc[data.tpcWW, \"itpc\"] = 3"
   ]
  },
  {
   "cell_type": "code",
   "execution_count": null,
   "id": "12",
   "metadata": {},
   "outputs": [],
   "source": []
  },
  {
   "cell_type": "code",
   "execution_count": null,
   "id": "13",
   "metadata": {},
   "outputs": [],
   "source": [
    "data[\"thit\"] = (data.time * tick_period - data.pandora_t0 - tanode*tick_period) / 1000."
   ]
  },
  {
   "cell_type": "code",
   "execution_count": null,
   "id": "14",
   "metadata": {},
   "outputs": [],
   "source": [
    "lifetime_file = datadir + \"lifetimes_runArun1run2.txt\"\n",
    "data[\"lifetime\"] = np.nan\n",
    "\n",
    "\n",
    "if not isMC:\n",
    "    with open(lifetime_file) as f:\n",
    "        next(f)\n",
    "        for line in f:\n",
    "            dat = list(map(float, line.rstrip(\"\\n\").split(\" \")))\n",
    "            run = int(dat[0])\n",
    "            data.loc[(data.run == run) & data.tpcEE, \"lifetime\"] = dat[1]\n",
    "            data.loc[(data.run == run) & data.tpcEW, \"lifetime\"] = dat[2]\n",
    "            data.loc[(data.run == run) & data.tpcWE, \"lifetime\"] = dat[3]\n",
    "            data.loc[(data.run == run) & data.tpcWW, \"lifetime\"] = dat[4]\n",
    "else:\n",
    "    data.lifetime = 3e3"
   ]
  },
  {
   "cell_type": "code",
   "execution_count": null,
   "id": "15",
   "metadata": {},
   "outputs": [],
   "source": [
    "data.columns"
   ]
  },
  {
   "cell_type": "code",
   "execution_count": null,
   "id": "16",
   "metadata": {},
   "outputs": [],
   "source": [
    "del data[\"integral\"]"
   ]
  },
  {
   "cell_type": "code",
   "execution_count": null,
   "id": "17",
   "metadata": {},
   "outputs": [],
   "source": [
    "del data[\"width\"]\n",
    "del data[\"sumadc\"]\n",
    "# del data[\"dqdx_nocorr\"]\n",
    "del data[\"mint_tpcE\"]\n",
    "del data[\"maxt_tpcE\"]\n",
    "del data[\"mint_tpcW\"]\n",
    "del data[\"maxt_tpcW\"]"
   ]
  },
  {
   "cell_type": "code",
   "execution_count": null,
   "id": "18",
   "metadata": {},
   "outputs": [],
   "source": [
    "yz_ybin = np.linspace(-180, 130, 32)\n",
    "yz_ylos = yz_ybin[:-1]\n",
    "yz_yhis = yz_ybin[1:]\n",
    "yz_ys = (yz_ylos + yz_yhis) / 2.\n",
    "\n",
    "yz_zbin = np.linspace(-900, 900, 181)\n",
    "yz_zlos = yz_zbin[:-1]\n",
    "yz_zhis = yz_zbin[1:]\n",
    "yz_zs = (yz_zlos + yz_zhis) / 2."
   ]
  },
  {
   "cell_type": "code",
   "execution_count": null,
   "id": "19",
   "metadata": {},
   "outputs": [],
   "source": [
    "data[\"ybin\"] = np.searchsorted(yz_ybin, data.p_y.values) - 1"
   ]
  },
  {
   "cell_type": "code",
   "execution_count": null,
   "id": "20",
   "metadata": {},
   "outputs": [],
   "source": [
    "data[\"zbin\"] = np.searchsorted(yz_zbin, data.p_z.values) - 1"
   ]
  },
  {
   "cell_type": "code",
   "execution_count": null,
   "id": "21",
   "metadata": {},
   "outputs": [],
   "source": [
    "data[\"scale_yz\"] = np.nan\n",
    "\n",
    "if not isMC:\n",
    "#     scaleyz_file = datadir + \"scaleYZ.txt\"\n",
    "    scaleyz_file = datadir + \"P2_scaleYZ_RunA.txt\"\n",
    "\n",
    "    idx = []\n",
    "    scales = []\n",
    "\n",
    "    with open(scaleyz_file) as f:\n",
    "        next(f)\n",
    "        for line in f:\n",
    "            dat = line.rstrip(\"\\n\").split(\"\\t\")\n",
    "            tpc = dat[0]\n",
    "            iy = int(dat[1])\n",
    "            iz = int(dat[2])\n",
    "            scale = float(dat[3])\n",
    "\n",
    "            idx.append((tpcnames.index(tpc), iy, iz))\n",
    "            scales.append(scale)\n",
    "\n",
    "    scaledf = pd.DataFrame(scales, index=pd.MultiIndex.from_tuples(idx, names=[\"itpc\", \"ybin\", \"zbin\"]), \n",
    "                           columns=[\"scale_yz\"])\n",
    "    dtmp = pd.merge(data[[\"itpc\", \"ybin\", \"zbin\"]], scaledf, on=[\"itpc\", \"ybin\", \"zbin\"], how=\"left\")\n",
    "    \n",
    "    data[\"scale_yz\"] = dtmp.scale_yz\n",
    "    \n",
    "    del dtmp\n",
    "\n",
    "else:\n",
    "    data.scale_yz = 1"
   ]
  },
  {
   "cell_type": "code",
   "execution_count": null,
   "id": "22",
   "metadata": {},
   "outputs": [],
   "source": [
    "# Normalize by drift time\n",
    "data[\"dqdx_normt\"] = data.dqdx_nocorr * np.exp(data.thit / data.lifetime)\n",
    "data[\"dqdx_normyz\"] = data.dqdx_nocorr / data.scale_yz\n",
    "data[\"dqdx_normed\"] = data.dqdx_normt / data.scale_yz"
   ]
  },
  {
   "cell_type": "code",
   "execution_count": null,
   "id": "23",
   "metadata": {},
   "outputs": [],
   "source": [
    "def fidYZ(data, iny=20, inz=100):\n",
    "    ymax = 134\n",
    "    ymin = -180\n",
    "    \n",
    "    zmin = -900\n",
    "    zmax = 900\n",
    "    \n",
    "    fid = (data.p_y > ymin + iny) & (data.p_y < ymax - iny)\\\n",
    "        & (data.p_z < zmax - inz) & (data.p_z > zmin + inz)\n",
    "    \n",
    "    if not isMC:\n",
    "        # Cut out some problem regions in the detector\n",
    "        fid = fid & (np.abs(data.p_z) > 10)\n",
    "\n",
    "        # TPC EW\n",
    "        bad_tpcEW = data.tpcEW & (data.p_z > 700) & (data.p_y < 0)\n",
    "\n",
    "        # TPC WW\n",
    "        bad_tpcWW = data.tpcWW & (data.p_y > 80) & (data.p_z < 0)\n",
    "\n",
    "        fid = fid & ~bad_tpcEW & ~bad_tpcWW\n",
    "    \n",
    "    return fid"
   ]
  },
  {
   "cell_type": "code",
   "execution_count": null,
   "id": "24",
   "metadata": {},
   "outputs": [],
   "source": [
    "data[\"fid\"] = fidYZ(data) & (data.thit > 100) & (data.thit < 900)"
   ]
  },
  {
   "cell_type": "code",
   "execution_count": null,
   "id": "25",
   "metadata": {},
   "outputs": [],
   "source": [
    "isMC"
   ]
  },
  {
   "cell_type": "code",
   "execution_count": null,
   "id": "26",
   "metadata": {},
   "outputs": [],
   "source": [
    "# Constants\n",
    "if isMC:\n",
    "    LAr_density_gmL = 1.389875\n",
    "else:\n",
    "    LAr_density_gmL = 1.3926\n",
    "    \n",
    "mass_electron = 0.5109989461 # MeV https://pdg.lbl.gov/2020/listings/rpp2020-list-K-plus-minus.pdf\n",
    "mass = 105.6583745 # MeV https://pdg.lbl.gov/2020/listings/rpp2020-list-muon.pdf\n",
    "Ival = 188.0e-6 if isMC else 197.0e-6\n",
    "Zval = 18.0\n",
    "Aval = 39.948\n",
    "# Kfactor = 0.307075\n",
    "\n",
    "Ar_molar_mass = 39.9623\n",
    "Ar_ZA = 18. / Ar_molar_mass\n",
    "Relec = 2.817940 * 1e-13\n",
    "mole = 6.0221409*1e23\n",
    "Kfactor = 4*np.pi*mole*Relec**2*mass_electron # 0.307075\n"
   ]
  },
  {
   "cell_type": "code",
   "execution_count": null,
   "id": "27",
   "metadata": {},
   "outputs": [],
   "source": [
    "def Calc_MEAN_DEDX(T):\n",
    "    gamma = (mass+T)/mass\n",
    "    beta = np.power(1.0-np.power(gamma,-2.0),0.5)\n",
    "    Wmax = (2.0*mass_electron*np.power(beta,2.0)*np.power(gamma,2.0))/(1.0+2.0*gamma*(mass_electron/mass)+np.power(mass_electron/mass,2.0))\n",
    "\n",
    "    # Medium energy \n",
    "    dens_factor = 2.0*np.log(10)*np.log10(beta*gamma)-5.2146+0.19559*np.power(3.0-np.log10(beta*gamma),3.0)\n",
    "    # low energy\n",
    "    dens_factor[np.log10(beta*gamma) < 0.2] = 0.\n",
    "    dens_factor[beta < 1e-6] = 0.\n",
    "    # high energy\n",
    "    dens_factor[np.log10(beta*gamma) > 3.0] = (2.0*np.log(10)*np.log10(beta*gamma)-5.2146)[np.log10(beta*gamma) > 3.0]\n",
    "    dEdx_mean = LAr_density_gmL*Kfactor*(Zval/Aval)*np.power(beta,-2.0)*(0.5*np.log(2.0*mass_electron*np.power(beta,2.0)*np.power(gamma,2.0)*Wmax*np.power(Ival,-2.0))-np.power(beta,2.0)-dens_factor/2.0)\n",
    "\n",
    "    return dEdx_mean\n",
    "\n",
    "def Calc_MPV_DEDX(thick, T):\n",
    "    gamma = (mass+T)/mass\n",
    "    beta = np.power(1.0-np.power(gamma,-2.0),0.5)\n",
    "    Wmax = (2.0*mass_electron*np.power(beta,2.0)*np.power(gamma,2.0))/(1.0+2.0*gamma*(mass_electron/mass)+np.power(mass_electron/mass,2.0))\n",
    "\n",
    "    # Medium energy \n",
    "    dens_factor = 2.0*np.log(10)*np.log10(beta*gamma)-5.2146+0.19559*np.power(3.0-np.log10(beta*gamma),3.0)\n",
    "    # low energy\n",
    "    dens_factor[np.log10(beta*gamma) < 0.2] = 0.\n",
    "    # high energy\n",
    "    dens_factor[np.log10(beta*gamma) > 3.0] = (2.0*np.log(10)*np.log10(beta*gamma)-5.2146)[np.log10(beta*gamma) > 3.0]\n",
    "    xi = (Kfactor/2.0)*(Zval/Aval)*np.power(beta,-2.0)*LAr_density_gmL*thick\n",
    "    dEdx_MPV = xi*(np.log((2.0*mass_electron*np.power(beta*gamma,2.0))/Ival)+np.log(xi/Ival)+0.200-np.power(beta,2.0)-dens_factor)/thick\n",
    "    return dEdx_MPV\n",
    "\n",
    "\n",
    "def Calc_RR_points(KE, dRR=0.01):\n",
    "    thisKE = KE\n",
    "    KE_points = [thisKE]\n",
    "    RR_points = [0.]\n",
    "\n",
    "    while thisKE > 0.0:\n",
    "        deltaKE = Calc_MEAN_DEDX(np.array([thisKE])) * dRR\n",
    "        RR_points.append(RR_points[-1] + dRR)\n",
    "        thisKE -= deltaKE[0]\n",
    "        KE_points.append(thisKE)\n",
    "\n",
    "    KE_points = np.array(list(reversed(KE_points[:-1])))\n",
    "    RR_points = np.array(RR_points[:-1])\n",
    "\n",
    "    return KE_points, RR_points\n",
    "\n",
    "KE_points_max = 1000.\n",
    "KE_points, RR_points = Calc_RR_points(KE_points_max)\n",
    "\n",
    "RR2KE = CubicSpline(RR_points, KE_points)\n"
   ]
  },
  {
   "cell_type": "code",
   "execution_count": null,
   "id": "28",
   "metadata": {},
   "outputs": [],
   "source": [
    "def Calc_Q2KE_points(KE, recomb, dQ0=500, mass=mass, z=1):\n",
    "    thisKE = KE\n",
    "    KE_points = []\n",
    "    Q_points = []\n",
    "    while thisKE > 0.0:\n",
    "        dEdx = Calc_MEAN_DEDX(np.array([thisKE]))\n",
    "        dQdx = recomb(dEdx)\n",
    "        dx = dQ0/dQdx[0]\n",
    "        deltaKE = dEdx * dx\n",
    "        dQ = dQdx*dx\n",
    "        Q_points.append(dQ)\n",
    "        thisKE -= deltaKE[0]\n",
    "        KE_points.append(thisKE)\n",
    "\n",
    "    KE_points = np.flip(np.array(KE_points[:-1]), axis=0)\n",
    "    Q_points = np.cumsum(np.flip(np.array(Q_points[:-1]), axis=0), axis=0)\n",
    "\n",
    "    return Q_points.squeeze().squeeze(), KE_points\n"
   ]
  },
  {
   "cell_type": "code",
   "execution_count": null,
   "id": "29",
   "metadata": {},
   "outputs": [],
   "source": [
    "def RR2MeandEdx(RR):\n",
    "    return Calc_MEAN_DEDX(RR2KE(RR))"
   ]
  },
  {
   "cell_type": "code",
   "execution_count": null,
   "id": "30",
   "metadata": {},
   "outputs": [],
   "source": [
    "# ArgoNeuT params\n",
    "MODA = 0.930\n",
    "MODB = 0.212\n",
    "Wion = 1e3 / 4.237e7\n",
    "if isMC: # MC Efield\n",
    "    Efield = 0.494\n",
    "else: # data efield\n",
    "    Efield = 0.4926\n",
    "print(Efield)\n",
    "    \n",
    "def recombination(dEdx, A=MODA, B=MODB, E=Efield):\n",
    "    alpha = A\n",
    "    beta = B / (LAr_density_gmL * E)\n",
    "\n",
    "    dQdx = np.log(alpha + dEdx*beta) / (Wion * beta)\n",
    "    return dQdx\n",
    "\n",
    "def recombination_cor(dQdx, A=MODA, B=MODB, E=Efield):\n",
    "    alpha = A\n",
    "    beta = B / (LAr_density_gmL * E)\n",
    "        \n",
    "    dEdx = (np.exp(dQdx*Wion*beta)- alpha) / beta\n",
    "        \n",
    "    return dEdx\n",
    "    "
   ]
  },
  {
   "cell_type": "code",
   "execution_count": null,
   "id": "31",
   "metadata": {},
   "outputs": [],
   "source": [
    "rpt = data.groupby(\"itrk\").itrk.count()"
   ]
  },
  {
   "cell_type": "code",
   "execution_count": null,
   "id": "32",
   "metadata": {},
   "outputs": [],
   "source": [
    "endp_ind = data.groupby(\"itrk\").rr.idxmin()"
   ]
  },
  {
   "cell_type": "code",
   "execution_count": null,
   "id": "33",
   "metadata": {},
   "outputs": [],
   "source": [
    "data[\"is_stopping\"] = True"
   ]
  },
  {
   "cell_type": "code",
   "execution_count": null,
   "id": "34",
   "metadata": {},
   "outputs": [],
   "source": [
    "wsorted_df = data[[\"itrk\", \"wire\", \"itpc\"]].sort_values([\"itrk\", \"itpc\", \"wire\"])"
   ]
  },
  {
   "cell_type": "code",
   "execution_count": null,
   "id": "35",
   "metadata": {},
   "outputs": [],
   "source": [
    "wdiff = wsorted_df.groupby([\"itrk\", \"itpc\"]).wire.diff()"
   ]
  },
  {
   "cell_type": "code",
   "execution_count": null,
   "id": "36",
   "metadata": {},
   "outputs": [],
   "source": [
    "data[\"wdiff\"] = wdiff"
   ]
  },
  {
   "cell_type": "code",
   "execution_count": null,
   "id": "37",
   "metadata": {},
   "outputs": [],
   "source": [
    "missingE = np.maximum((np.abs(data.wdiff) - 1).fillna(0), 0)*data.pitch*RR2MeandEdx(data.rr)"
   ]
  },
  {
   "cell_type": "code",
   "execution_count": null,
   "id": "38",
   "metadata": {},
   "outputs": [],
   "source": [
    "data[\"fid_missE\"] = missingE\n",
    "data.loc[~data.fid, \"fid_missE\"] = np.nan"
   ]
  },
  {
   "cell_type": "code",
   "execution_count": null,
   "id": "39",
   "metadata": {},
   "outputs": [],
   "source": [
    "def emb_beta(phi, beta90=0.203, R=1.25):\n",
    "    phirad = phi*np.pi/180\n",
    "    return beta90 / np.sqrt(np.sin(phirad)**2 + np.cos(phirad)**2/R**2)"
   ]
  },
  {
   "cell_type": "code",
   "execution_count": null,
   "id": "40",
   "metadata": {},
   "outputs": [],
   "source": [
    "if isMC:\n",
    "    beta = 0.212\n",
    "    alpha = 0.93\n",
    "    gain = 1/0.01265 # MCNuPhase2\n",
    "    gain = 78.1 # MCNuPhase2\n",
    "else:\n",
    "    # Nominal Fit\n",
    "    betaf = emb_beta\n",
    "    beta = betaf(82.5)\n",
    "    alpha = 0.906\n",
    "    gain = 75.1\n",
    "    \n",
    "    # Nominal, updated density\n",
    "    betaf = emb_beta\n",
    "    beta = betaf(82.5, 0.205)\n",
    "    alpha = 0.903\n",
    "    gain = 74.9\n",
    "    \n",
    "    # No diffuson fit\n",
    "#     betaf = lambda phi: emb_beta(phi, 0.204, 1.25)\n",
    "#     beta = betaf(82.5)\n",
    "#     alpha = 0.924\n",
    "#     gain = 75.4"
   ]
  },
  {
   "cell_type": "code",
   "execution_count": null,
   "id": "41",
   "metadata": {},
   "outputs": [],
   "source": [
    "CALS = {}\n",
    "\n",
    "# Divide out the gain in the input files\n",
    "if not isMC:\n",
    "    with open(datadir + \"tpc_ratio_Run1.txt\") as f:\n",
    "        for line in f:\n",
    "            TPC, CAL = line.rstrip(\"\\n\").split(\" \")\n",
    "            CALS[TPC] = float(CAL)\n",
    "else:\n",
    "    CALS[\"MC\"] = 1.\n",
    "\n",
    "CALS"
   ]
  },
  {
   "cell_type": "code",
   "execution_count": null,
   "id": "42",
   "metadata": {},
   "outputs": [],
   "source": [
    "data[\"phi\"] = np.arccos(np.abs(data.dir_x))*180/np.pi"
   ]
  },
  {
   "cell_type": "code",
   "execution_count": null,
   "id": "43",
   "metadata": {},
   "outputs": [],
   "source": [
    "data[\"thxw\"] = np.abs(np.arctan(data.dir_x*data.pitch/0.3)*180/np.pi)"
   ]
  },
  {
   "cell_type": "code",
   "execution_count": null,
   "id": "44",
   "metadata": {},
   "outputs": [],
   "source": [
    "if not isMC:\n",
    "    data[\"dedx\"] = recombination_cor(data.dqdx_normed*CALS[\"EE\"]*gain, \n",
    "                                                     A=alpha, B=betaf(data.phi))\n",
    "    data.loc[data.tpcEW, \"dedx\"] = recombination_cor(data.dqdx_normed[data.tpcEW]*CALS[\"EW\"]*gain, \n",
    "                                                     A=alpha, B=betaf(data.phi))\n",
    "    data.loc[data.tpcWE, \"dedx\"] = recombination_cor(data.dqdx_normed[data.tpcWE]*CALS[\"WE\"]*gain, \n",
    "                                                     A=alpha, B=betaf(data.phi))\n",
    "    data.loc[data.tpcWW, \"dedx\"] = recombination_cor(data.dqdx_normed[data.tpcWW]*CALS[\"WW\"]*gain, \n",
    "                                                     A=alpha, B=betaf(data.phi))\n",
    "else:\n",
    "    data[\"dedx\"] = recombination_cor(data.dqdx_normed*CALS[\"MC\"]*gain, A=alpha, B=beta)"
   ]
  },
  {
   "cell_type": "code",
   "execution_count": null,
   "id": "45",
   "metadata": {},
   "outputs": [],
   "source": [
    "rrbins = np.linspace(0, 100, 101)\n",
    "rrs = (rrbins[1:] + rrbins[:-1]) / 2."
   ]
  },
  {
   "cell_type": "code",
   "execution_count": null,
   "id": "46",
   "metadata": {},
   "outputs": [],
   "source": [
    "whenplt = data.is_stopping & data.fid & (data.pitch < 1)"
   ]
  },
  {
   "cell_type": "code",
   "execution_count": null,
   "id": "47",
   "metadata": {},
   "outputs": [],
   "source": [
    "data.thit[whenplt].mean(), data.pitch[whenplt].mean()"
   ]
  },
  {
   "cell_type": "code",
   "execution_count": null,
   "id": "48",
   "metadata": {},
   "outputs": [],
   "source": [
    "_ = plt.hist2d(data.rr[whenplt], data.dedx[whenplt], bins=[rrbins, np.linspace(1, 6, 41)], rasterized=True)\n",
    "plt.xlabel(\"Residual Range [cm]\")\n",
    "plt.ylabel(\"Calibrated dE/dx [MeV/cm]\")\n",
    "\n",
    "plt.plot(rrs, RR2MeandEdx(rrs), color=\"red\", label=\"Predicted MPV dE/dx\")\n",
    "plt.legend(frameon=False, labelcolor=\"white\")\n",
    "plt.tight_layout()\n",
    "\n",
    "if dosave: \n",
    "    plt.savefig(savedir + \"dedx_rr_vpredicted.pdf\")"
   ]
  },
  {
   "cell_type": "code",
   "execution_count": null,
   "id": "49",
   "metadata": {},
   "outputs": [],
   "source": [
    "dedxdf_tosave = data.loc[data.fid, [\"dedx\", \"rr\"]]"
   ]
  },
  {
   "cell_type": "code",
   "execution_count": null,
   "id": "50",
   "metadata": {},
   "outputs": [],
   "source": [
    "dedxdf_tosave"
   ]
  },
  {
   "cell_type": "code",
   "execution_count": null,
   "id": "51",
   "metadata": {},
   "outputs": [],
   "source": [
    "if dosave:\n",
    "    dedxdf_tosave.to_hdf(savedir + \"muon_dedx.df\", key=\"dedx\")"
   ]
  },
  {
   "cell_type": "code",
   "execution_count": null,
   "id": "52",
   "metadata": {},
   "outputs": [],
   "source": [
    "# data"
   ]
  },
  {
   "cell_type": "code",
   "execution_count": null,
   "id": "53",
   "metadata": {},
   "outputs": [],
   "source": [
    "data[\"ke\"] = data.dedx * data.pitch\n",
    "data.loc[~data.fid, \"ke\"] = np.nan"
   ]
  },
  {
   "cell_type": "code",
   "execution_count": null,
   "id": "54",
   "metadata": {},
   "outputs": [],
   "source": [
    "data[\"fid_rr\"] = data.rr\n",
    "data.loc[~data.fid, \"fid_rr\"] = np.nan"
   ]
  },
  {
   "cell_type": "code",
   "execution_count": null,
   "id": "55",
   "metadata": {},
   "outputs": [],
   "source": [
    "data[\"fid_pitch\"] = data.pitch\n",
    "data.loc[~data.fid, \"fid_pitch\"] = np.nan"
   ]
  },
  {
   "cell_type": "code",
   "execution_count": null,
   "id": "56",
   "metadata": {},
   "outputs": [],
   "source": [
    "data[\"fid_phi\"] = data.phi\n",
    "data.loc[~data.fid, \"fid_phi\"] = np.nan"
   ]
  },
  {
   "cell_type": "code",
   "execution_count": null,
   "id": "57",
   "metadata": {},
   "outputs": [],
   "source": [
    "data[\"fid_thxw\"] = data.thxw\n",
    "data.loc[~data.fid, \"fid_thxw\"] = np.nan"
   ]
  },
  {
   "cell_type": "code",
   "execution_count": null,
   "id": "58",
   "metadata": {},
   "outputs": [],
   "source": [
    "data[\"fid_true_e\"] = data.trueh_e if isMC else np.nan\n",
    "data.loc[~data.fid, \"fid_true_e\"] = np.nan"
   ]
  },
  {
   "cell_type": "code",
   "execution_count": null,
   "id": "59",
   "metadata": {},
   "outputs": [],
   "source": [
    "mugroup = data.groupby(\"itrk\")"
   ]
  },
  {
   "cell_type": "code",
   "execution_count": null,
   "id": "60",
   "metadata": {},
   "outputs": [],
   "source": [
    "muonCalE = mugroup.ke.sum()"
   ]
  },
  {
   "cell_type": "code",
   "execution_count": null,
   "id": "61",
   "metadata": {},
   "outputs": [],
   "source": [
    "muonTrueE = mugroup.fid_true_e.sum()"
   ]
  },
  {
   "cell_type": "code",
   "execution_count": null,
   "id": "62",
   "metadata": {},
   "outputs": [],
   "source": [
    "muonMissE = mugroup.fid_missE.sum()"
   ]
  },
  {
   "cell_type": "code",
   "execution_count": null,
   "id": "63",
   "metadata": {},
   "outputs": [],
   "source": [
    "mupitch = mugroup.fid_pitch.mean()"
   ]
  },
  {
   "cell_type": "code",
   "execution_count": null,
   "id": "64",
   "metadata": {},
   "outputs": [],
   "source": [
    "muphi = mugroup.fid_phi.mean()"
   ]
  },
  {
   "cell_type": "code",
   "execution_count": null,
   "id": "65",
   "metadata": {},
   "outputs": [],
   "source": [
    "muthxw = mugroup.fid_thxw.mean()"
   ]
  },
  {
   "cell_type": "code",
   "execution_count": null,
   "id": "66",
   "metadata": {},
   "outputs": [],
   "source": [
    "# Q tip KE"
   ]
  },
  {
   "cell_type": "code",
   "execution_count": null,
   "id": "67",
   "metadata": {},
   "outputs": [],
   "source": [
    "data[\"qtip\"] = data.dqdx_normed*data.pitch*(data.rr < 3)*gain\n",
    "data.loc[~data.fid, \"qtip\"] = np.nan"
   ]
  },
  {
   "cell_type": "code",
   "execution_count": null,
   "id": "68",
   "metadata": {},
   "outputs": [],
   "source": [
    "data[\"elen\"] = data.ke*(data.rr >= 3)"
   ]
  },
  {
   "cell_type": "code",
   "execution_count": null,
   "id": "69",
   "metadata": {},
   "outputs": [],
   "source": [
    "muontipQ = mugroup.qtip.sum()"
   ]
  },
  {
   "cell_type": "code",
   "execution_count": null,
   "id": "70",
   "metadata": {},
   "outputs": [],
   "source": [
    "Q2KE = CubicSpline(*Calc_Q2KE_points(200, lambda dEdx: recombination(dEdx, alpha, beta)), \n",
    "                   extrapolate=False)"
   ]
  },
  {
   "cell_type": "code",
   "execution_count": null,
   "id": "71",
   "metadata": {},
   "outputs": [],
   "source": [
    "muontipE = Q2KE(muontipQ.values)"
   ]
  },
  {
   "cell_type": "code",
   "execution_count": null,
   "id": "72",
   "metadata": {},
   "outputs": [],
   "source": [
    "muonqtipE = muontipE + mugroup.elen.sum()"
   ]
  },
  {
   "cell_type": "code",
   "execution_count": null,
   "id": "73",
   "metadata": {},
   "outputs": [],
   "source": [
    "mu_max_rr = mugroup.fid_rr.max()"
   ]
  },
  {
   "cell_type": "code",
   "execution_count": null,
   "id": "74",
   "metadata": {},
   "outputs": [],
   "source": [
    "mu_max_rr_data = np.repeat(mu_max_rr, rpt).reset_index()\n",
    "data[\"max_rr\"] = mu_max_rr_data.fid_rr.values"
   ]
  },
  {
   "cell_type": "code",
   "execution_count": null,
   "id": "75",
   "metadata": {},
   "outputs": [],
   "source": [
    "data[\"badhit\"] = (data.rr < data.max_rr) & ((~data.fid) | (data.ke > 100))"
   ]
  },
  {
   "cell_type": "code",
   "execution_count": null,
   "id": "76",
   "metadata": {},
   "outputs": [],
   "source": [
    "whenmu = mugroup.is_stopping.all() & ~mugroup.badhit.any() & (mu_max_rr > 50) #& (muonMissE / muonCalE < 0.05)'calib_fitwvfks_fixallgain.df'"
   ]
  },
  {
   "cell_type": "code",
   "execution_count": null,
   "id": "77",
   "metadata": {},
   "outputs": [],
   "source": [
    "whenmu.sum()"
   ]
  },
  {
   "cell_type": "code",
   "execution_count": null,
   "id": "78",
   "metadata": {},
   "outputs": [],
   "source": [
    "muonRangeE = RR2KE(mu_max_rr)"
   ]
  },
  {
   "cell_type": "code",
   "execution_count": null,
   "id": "79",
   "metadata": {},
   "outputs": [],
   "source": [
    "_ = plt.hist((muonMissE / muonCalE)[~mugroup.badhit.any() & (mu_max_rr > 100) ], bins=np.linspace(0, 1, 21))"
   ]
  },
  {
   "cell_type": "code",
   "execution_count": null,
   "id": "80",
   "metadata": {},
   "outputs": [],
   "source": [
    "#_ = plt.hist(data.ke, bins=np.linspace(0, 100, 21))\n",
    "#plt.yscale(\"log\")"
   ]
  },
  {
   "cell_type": "code",
   "execution_count": null,
   "id": "81",
   "metadata": {},
   "outputs": [],
   "source": [
    "def gauss(X, A, mu, sigma):\n",
    "    return A * np.exp(-(X-mu)**2 / (2*sigma**2))\n",
    "\n",
    "def double_gauss(X, A1, mu1, sigma1, A2, mu2, sigma2):\n",
    "    return A1 * np.exp(-(X-mu1)**2 / (2*sigma1**2)) + A2 * np.exp(-(X-mu2)**2 / (2*sigma2**2)) \n",
    "\n",
    "def lorentzian(X, A, mu, sigma):\n",
    "    return (A/np.pi)*((sigma/2) / ((X - mu)**2 + (sigma/2)**2))"
   ]
  },
  {
   "cell_type": "code",
   "execution_count": null,
   "id": "82",
   "metadata": {},
   "outputs": [],
   "source": [
    "def energy_comparison_plot(plt, v, bins, text=\"left\", fit_double=True, energy1=\"calo\", energy2=\"range\"):\n",
    "    N,bins = np.histogram(v, bins=bins)\n",
    "    centers = (bins[1:] + bins[:-1]) / 2\n",
    "    XS = np.linspace(bins[0], bins[-1], 1000)\n",
    "    \n",
    "    plt.errorbar(centers[N>0], N[N>0], yerr=np.sqrt(N)[N>0], \n",
    "                 linestyle=\"none\", marker=\".\", color=\"black\")\n",
    "    \n",
    "    ymax = N.max()\n",
    "\n",
    "    if fit_double:\n",
    "        p0 = [\n",
    "            ymax/2, 0.0, 0.05,\n",
    "            ymax/10, 0.15, 0.1\n",
    "        ]\n",
    "\n",
    "        popt, perr = curve_fit(double_gauss, centers, N, sigma=np.maximum(1, np.sqrt(N)), p0=p0, maxfev=10_000)\n",
    "\n",
    "        p1 = popt[:3]\n",
    "        p2 = popt[-3:]\n",
    "        if p1[0] < p2[0]:\n",
    "            p1 = popt[-3:]\n",
    "            p2 = popt[:3]\n",
    "\n",
    "        peak_val = np.max(double_gauss(XS, *popt))\n",
    "        peak_ind = np.argmax(double_gauss(XS, *popt))\n",
    "        half_lo = XS[np.argmin(np.abs(peak_val/2 - double_gauss(XS[:peak_ind], *popt)))]\n",
    "        half_hi = XS[peak_ind + np.argmin(np.abs(peak_val/2 - double_gauss(XS[peak_ind:], *popt)))]    \n",
    "        FWHM = half_hi - half_lo\n",
    "\n",
    "        plt.plot(XS, double_gauss(XS, *popt))\n",
    "        plt.plot(XS, gauss(XS, *p1), color=\"gray\", linestyle=\":\")\n",
    "        plt.plot(XS, gauss(XS, *p2), color=\"gray\", linestyle=\"--\")        \n",
    "    else:\n",
    "        p0 = [\n",
    "            ymax, 0.0, 0.05,\n",
    "        ]\n",
    "\n",
    "        popt, perr = curve_fit(gauss, centers, N, p0=p0, maxfev=10_000)\n",
    "\n",
    "        p1 = popt[:3]\n",
    "\n",
    "        peak_val = np.max(gauss(XS, *popt))\n",
    "        peak_ind = np.argmax(gauss(XS, *popt))\n",
    "        half_lo = XS[np.argmin(np.abs(peak_val/2 - gauss(XS[:peak_ind], *popt)))]\n",
    "        half_hi = XS[peak_ind + np.argmin(np.abs(peak_val/2 - gauss(XS[peak_ind:], *popt)))]    \n",
    "        FWHM = half_hi - half_lo\n",
    "\n",
    "        plt.plot(XS, gauss(XS, *popt))\n",
    "    \n",
    "    trans = plt.gca().get_yaxis_transform()\n",
    "    \n",
    "    if text == \"left\":\n",
    "        x_lo = 0.025\n",
    "        x_hi = 0.35\n",
    "        x_center = 0.1\n",
    "        x_fwhm = 0.7\n",
    "    else:\n",
    "        x_lo = 0.6\n",
    "        x_hi = 0.975\n",
    "        x_center = 0.7\n",
    "        x_fwhm = 0.05\n",
    "    \n",
    "\n",
    "    \n",
    "    if fit_double:\n",
    "        plt.axhline(ymax*0.8, x_lo, x_hi, color=\"gray\", linestyle=\":\")    \n",
    "        plt.text(x_lo, ymax*0.85, \"$\\\\mu_1: %.1f$%%, $\\\\sigma_1: %.1f$%%\" % (p1[1]*100, np.abs(p1[2])*100),\n",
    "            transform=trans, fontsize=12)\n",
    "        \n",
    "        plt.axhline(ymax*0.6, x_lo, x_hi, color=\"gray\", linestyle=\"--\")    \n",
    "        \n",
    "        plt.text(x_lo, ymax*0.65, \"$\\\\mu_2: %.1f$%%, $\\\\sigma_2: %.1f$%%\" % (p2[1]*100, np.abs(p2[2])*100),\n",
    "                transform=trans, fontsize=12)\n",
    "    \n",
    "        plt.text(x_center, ymax*0.5, \"$N_1/N_2: %.2f$\" % (p1[0] / p2[0]),\n",
    "                transform=trans, fontsize=12)\n",
    "    else:\n",
    "        plt.text(x_lo, ymax*0.85, \"$\\\\mu: %.1f$%%, $\\\\sigma: %.1f$%%\" % (p1[1]*100, np.abs(p1[2])*100),\n",
    "            transform=trans, fontsize=12)\n",
    "        \n",
    "    plt.text(x_fwhm, 0.9, \"FWHM: %.0f%%\" % (FWHM*100), fontsize=12, transform=plt.gca().transAxes)\n",
    "    \n",
    "    if fit_double:\n",
    "        plt.text(0.03, 0.875, \"Double Gaussian Fit\", fontsize=12, transform=plt.gca().transAxes)\n",
    "    else:\n",
    "        plt.text(0.03, 0.875, \"Single Gaussian Fit\", fontsize=12, transform=plt.gca().transAxes)\n",
    "        \n",
    "    if isMC:\n",
    "        plt.text(x_fwhm, 0.6, \"ICARUS\\nMC\", fontsize=20, transform=plt.gca().transAxes)\n",
    "    else:\n",
    "        plt.text(x_fwhm, 0.6, \"ICARUS\\nData\", fontsize=20, transform=plt.gca().transAxes)\n",
    "    \n",
    "    plt.xlabel(\"$(E_\\\\mathrm{%s} - E_\\\\mathrm{%s}) / E_\\\\mathrm{%s}$\" % (energy1, energy2, energy2))\n",
    "\n",
    "    plt.ylabel(\"Muon Like Tracks\")"
   ]
  },
  {
   "cell_type": "code",
   "execution_count": null,
   "id": "83",
   "metadata": {},
   "outputs": [],
   "source": [
    "var = (muonCalE - muonRangeE) / muonRangeE\n",
    "bins = (np.linspace(-1, 1, 41) + 0.025) / 2\n",
    "centers = (bins[:-1] + bins[1:]) / 2."
   ]
  },
  {
   "cell_type": "code",
   "execution_count": null,
   "id": "84",
   "metadata": {},
   "outputs": [],
   "source": [
    "PITCHS = [0.3, 0.4]\n",
    "PLOS = PITCHS[:-1]\n",
    "PHIS = PITCHS[1:]"
   ]
  },
  {
   "cell_type": "code",
   "execution_count": null,
   "id": "85",
   "metadata": {},
   "outputs": [],
   "source": [
    "for ifig, (plo, phi) in enumerate(zip(PLOS, PHIS)):\n",
    "    plt.figure(ifig)\n",
    "    thiswhen = whenmu &\\\n",
    "        (mupitch < phi) & (mupitch > plo) &\\\n",
    "        (muphi > 70) & (muphi < 85) &\\\n",
    "        (muthxw > 5) & (muthxw < 20)\n",
    "\n",
    "    energy_comparison_plot(plt, var[thiswhen], bins)\n",
    "    \n",
    "    if dosave: plt.savefig(savedir + \"calE_v_rangeE.pdf\")"
   ]
  },
  {
   "cell_type": "code",
   "execution_count": null,
   "id": "86",
   "metadata": {},
   "outputs": [],
   "source": [
    "var = (muonqtipE - muonRangeE) / muonRangeE\n",
    "bins = (np.linspace(-1, 1, 41) + 0.025) / 2\n",
    "centers = (bins[:-1] + bins[1:]) / 2."
   ]
  },
  {
   "cell_type": "code",
   "execution_count": null,
   "id": "87",
   "metadata": {},
   "outputs": [],
   "source": [
    "for ifig, (plo, phi) in enumerate(zip(PLOS, PHIS)):\n",
    "    plt.figure(ifig)\n",
    "    thiswhen = whenmu &\\\n",
    "        (mupitch < phi) & (mupitch > plo) &\\\n",
    "        (muphi > 70) & (muphi < 85) &\\\n",
    "        (muthxw > 5) & (muthxw < 20)\n",
    "\n",
    "    energy_comparison_plot(plt, var[thiswhen], bins)\n",
    "\n",
    "    if ifig == 0 and dosave: plt.savefig(savedir + \"calE_tip_v_rangeE.pdf\")"
   ]
  },
  {
   "cell_type": "code",
   "execution_count": null,
   "id": "88",
   "metadata": {},
   "outputs": [],
   "source": [
    "data[\"p_z_abs\"] = np.abs(data.p_z)"
   ]
  },
  {
   "cell_type": "code",
   "execution_count": null,
   "id": "89",
   "metadata": {},
   "outputs": [],
   "source": [
    "var = (muonqtipE - muonRangeE + muonMissE) / muonRangeE\n",
    "bins = ((np.linspace(-1, 1, 41) + 0.025) / 4)[:-1]\n",
    "centers = (bins[:-1] + bins[1:]) / 2"
   ]
  },
  {
   "cell_type": "code",
   "execution_count": null,
   "id": "90",
   "metadata": {},
   "outputs": [],
   "source": [
    "for ifig, (plo, phi) in enumerate(zip(PLOS, PHIS)):\n",
    "    plt.figure(ifig)\n",
    "    thiswhen = whenmu &\\\n",
    "        (mupitch < phi) & (mupitch > plo) &\\\n",
    "        (muphi > 70) & (muphi < 85) &\\\n",
    "        (muthxw > 5) & (muthxw < 20) &\\\n",
    "        (mugroup.p_z_abs.min() > 150)\n",
    "\n",
    "    energy_comparison_plot(plt, var[thiswhen], bins)\n",
    "\n",
    "    if ifig == 0 and dosave: plt.savefig(savedir + \"calE_tip_miss_v_rangeE.pdf\")"
   ]
  },
  {
   "cell_type": "code",
   "execution_count": null,
   "id": "91",
   "metadata": {},
   "outputs": [],
   "source": [
    "for ifig, (plo, phi) in enumerate(zip(PLOS, PHIS)):\n",
    "    plt.figure(ifig)\n",
    "    thiswhen = whenmu &\\\n",
    "        (mupitch < phi) & (mupitch > plo) &\\\n",
    "        (muphi > 70) & (muphi < 85) &\\\n",
    "        (muthxw > 5) & (muthxw < 20) &\\\n",
    "        (mugroup.p_z_abs.min() > 150)\n",
    "\n",
    "    energy_comparison_plot(plt, var[thiswhen], bins, fit_double=False)\n",
    "\n",
    "    if ifig == 0 and dosave: plt.savefig(savedir + \"calE_tip_miss_v_rangeE_singlegauss.pdf\")"
   ]
  },
  {
   "cell_type": "code",
   "execution_count": null,
   "id": "92",
   "metadata": {},
   "outputs": [],
   "source": [
    "var = (muonRangeE - muonTrueE - muonMissE) / (muonTrueE + muonMissE)\n",
    "bins = ((np.linspace(-1, 1, 41) + 0.025) / 4)[:-1]\n",
    "centers = (bins[:-1] + bins[1:]) / 2"
   ]
  },
  {
   "cell_type": "code",
   "execution_count": null,
   "id": "93",
   "metadata": {},
   "outputs": [],
   "source": [
    "for ifig, (plo, phi) in enumerate(zip(PLOS, PHIS)):\n",
    "    plt.figure(ifig)\n",
    "    thiswhen = whenmu &\\\n",
    "        (mupitch < phi) & (mupitch > plo) &\\\n",
    "        (muphi > 70) & (muphi < 85) &\\\n",
    "        (muthxw > 5) & (muthxw < 20) &\\\n",
    "        (mugroup.p_z_abs.min() > 150)\n",
    "\n",
    "    energy_comparison_plot(plt, var[thiswhen], bins, fit_double=True, energy1=\"range\", energy2=\"true\")\n",
    "\n",
    "    if ifig == 0 and dosave: plt.savefig(savedir + \"rangeE_v_trueE.pdf\")"
   ]
  },
  {
   "cell_type": "code",
   "execution_count": null,
   "id": "94",
   "metadata": {},
   "outputs": [],
   "source": [
    "# var = (muonTrueE - muonRangeE + muonMissE) / muonRangeE\n",
    "var = (muonqtipE - muonTrueE) / muonTrueE\n",
    "bins = ((np.linspace(-1, 1, 41) + 0.025) / 4)[:-1]\n",
    "centers = (bins[:-1] + bins[1:]) / 2"
   ]
  },
  {
   "cell_type": "code",
   "execution_count": null,
   "id": "95",
   "metadata": {},
   "outputs": [],
   "source": [
    "for ifig, (plo, phi) in enumerate(zip(PLOS, PHIS)):\n",
    "    plt.figure(ifig)\n",
    "    thiswhen = whenmu &\\\n",
    "        (mupitch < phi) & (mupitch > plo) &\\\n",
    "        (muphi > 70) & (muphi < 85) &\\\n",
    "        (muthxw > 5) & (muthxw < 20) &\\\n",
    "        (mugroup.p_z_abs.min() > 150)\n",
    "\n",
    "    energy_comparison_plot(plt, var[thiswhen], bins, fit_double=True, energy1=\"calo\", energy2=\"true\")\n",
    "\n",
    "    if ifig == 0 and dosave: plt.savefig(savedir + \"caloE_v_trueE.pdf\")"
   ]
  },
  {
   "cell_type": "code",
   "execution_count": null,
   "id": "96",
   "metadata": {},
   "outputs": [],
   "source": []
  },
  {
   "cell_type": "code",
   "execution_count": null,
   "id": "97",
   "metadata": {},
   "outputs": [],
   "source": []
  }
 ],
 "metadata": {
  "kernelspec": {
   "display_name": "Python 3 (ipykernel)",
   "language": "python",
   "name": "python3"
  },
  "language_info": {
   "codemirror_mode": {
    "name": "ipython",
    "version": 3
   },
   "file_extension": ".py",
   "mimetype": "text/x-python",
   "name": "python",
   "nbconvert_exporter": "python",
   "pygments_lexer": "ipython3",
   "version": "3.9.2"
  }
 },
 "nbformat": 4,
 "nbformat_minor": 5
}
