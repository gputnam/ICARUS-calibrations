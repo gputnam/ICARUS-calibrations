{
 "cells": [
  {
   "cell_type": "code",
   "execution_count": null,
   "id": "3311a28a",
   "metadata": {},
   "outputs": [],
   "source": [
    "%load_ext autoreload\n",
    "%autoreload 2\n",
    "\n",
    "import os\n",
    "import uproot\n",
    "import matplotlib.pyplot as plt\n",
    "import matplotlib.colors as colors\n",
    "import matplotlib.cbook as cbook\n",
    "from matplotlib.legend_handler import HandlerLine2D, HandlerTuple\n",
    "import numpy as np\n",
    "import pandas as pd\n",
    "from decimal import Decimal\n",
    "from scipy.stats import norm\n",
    "from scipy.optimize import curve_fit\n",
    "from scipy import stats\n",
    "import datetime as dt\n",
    "import scipy.optimize\n",
    "import landau\n",
    "from scipy.interpolate import CubicSpline, interp2d\n",
    "from scipy.integrate import quad\n",
    "from scipy.special import erf\n",
    "from scipy import linalg\n",
    "\n",
    "import importlib\n",
    "\n",
    "# local imports\n",
    "from lib.constants import *"
   ]
  },
  {
   "cell_type": "code",
   "execution_count": null,
   "id": "e0fe0afe",
   "metadata": {},
   "outputs": [],
   "source": [
    "savedir = \"plots_9_13_23/\"\n",
    "dosave = False\n",
    "pqual = \"\"\n",
    "\n",
    "plt.rcParams.update({'font.size': 14})"
   ]
  },
  {
   "cell_type": "code",
   "execution_count": null,
   "id": "fa8883ef",
   "metadata": {},
   "outputs": [],
   "source": [
    "filedir = \"/icarus/data/users/gputnam/DMCP2023G/calib-mc/\"\n",
    "# perhit_df = pd.read_hdf(filedir + 'calib_mcnuphase2.df')\n",
    "perhit_df = pd.read_hdf(filedir + 'calib_mcnuphase1.df')"
   ]
  },
  {
   "cell_type": "code",
   "execution_count": null,
   "id": "213af556",
   "metadata": {},
   "outputs": [],
   "source": [
    "# define the fit function\n",
    "def fit_lossy(x, *p):\n",
    "    N = p[0]\n",
    "    sigma = p[1]\n",
    "    center = p[2]\n",
    "    beta = p[3]\n",
    "    m = p[4]\n",
    "    return N*stats.crystalball.pdf(x, beta, m, center, sigma)\n",
    "\n",
    "def fit_gaus(x, A, sigma, mu):\n",
    "    return A*np.exp(-(x-mu)**2 / sigma**2)"
   ]
  },
  {
   "cell_type": "code",
   "execution_count": null,
   "id": "cede210d",
   "metadata": {},
   "outputs": [],
   "source": [
    "def charge_ratio_plot(ratio, varx, binx, ax, p0mean=1e-2, biny=None):\n",
    "    if biny is None:\n",
    "        biny = np.linspace(0, 0.02, 81)\n",
    "    p0sigma = p0mean/10.\n",
    "\n",
    "    \n",
    "    N,_,_,__ = ax.hist2d(varx, ratio, bins=[binx, biny])\n",
    "    ax.colorbar()\n",
    "\n",
    "    xcenters = (binx[1:] + binx[:-1]) / 2.\n",
    "    charge_ratios = (biny[1:] + biny[:-1]) / 2.\n",
    "    cals = []\n",
    "    cal_errs = []\n",
    "    xs = []\n",
    "\n",
    "    for i in range(len(xcenters)):\n",
    "        Nfit = N[i, :]\n",
    "        p0 = [np.max(Nfit), p0sigma, p0mean, 1, 2.]\n",
    "        \n",
    "        when_fit = (Nfit > 0) & (charge_ratios > 0.005)\n",
    "        try:\n",
    "            popt, perr = curve_fit(fit_lossy, charge_ratios[when_fit], Nfit[when_fit], sigma=np.sqrt(Nfit[when_fit]), \n",
    "                                   p0=p0, maxfev=100_000)\n",
    "            cal = popt[2]\n",
    "            cal_err = np.sqrt(np.diag(perr))[2]\n",
    "        except:\n",
    "            cal = p0mean\n",
    "            cal_err = np.inf\n",
    "            \n",
    "        cal_errs.append(cal_err)\n",
    "        cals.append(cal)\n",
    "        xs.append(xcenters[i])\n",
    "    # ax.plot(xs, cals, color=\"r\")\n",
    "\n",
    "    # plt.xlabel(\"Residual Range [cm]\")\n",
    "    # plt.ylabel(\"Hit Integral / True Charge [ADDC / #elec]\")\n",
    "    return xcenters, np.array(cals), np.array(cal_errs)\n"
   ]
  },
  {
   "cell_type": "code",
   "execution_count": null,
   "id": "46b476cc",
   "metadata": {},
   "outputs": [],
   "source": [
    "perhit_df[\"phi\"] = np.arccos(np.abs(perhit_df.dir_x))*180/np.pi"
   ]
  },
  {
   "cell_type": "code",
   "execution_count": null,
   "id": "ccbac364",
   "metadata": {},
   "outputs": [],
   "source": [
    "when_plt = (perhit_df.pitch < 0.4) & (perhit_df.phi > 70) & (perhit_df.phi < 85)"
   ]
  },
  {
   "cell_type": "code",
   "execution_count": null,
   "id": "9a4bb69e",
   "metadata": {},
   "outputs": [],
   "source": [
    "bins = np.linspace(40, 120, 61)\n",
    "var = perhit_df.true_nelec / perhit_df.integral\n",
    "plt.ticklabel_format(axis=\"y\", style=\"sci\", scilimits=(0,0))\n",
    "plt.xlabel(\"True Charge / Reco. Integral Charge $e^-$/ADC\")\n",
    "plt.ylabel(\"Entries\")\n",
    "\n",
    "N,_,_ = plt.hist(var[when_plt], bins=bins, label=\"Entries\")\n",
    "\n",
    "Nfit = N\n",
    "centers = (bins[1:] + bins[:-1]) / 2.\n",
    "\n",
    "when_fit = (Nfit > 0)\n",
    "p0 = [np.max(Nfit), 2, -78, 1, 2.]\n",
    "fitf = fit_lossy\n",
    "\n",
    "popt, perr = curve_fit(fitf, -centers[when_fit], Nfit[when_fit], sigma=np.sqrt(Nfit[when_fit]), \n",
    "                       p0=p0, maxfev=100_000)\n",
    "plt.plot(centers, fitf(-centers, *popt), color=\"r\", label=\"Crystal-Ball Fit\")\n",
    "plt.axvline(-popt[2], color=\"r\", linestyle=\":\")\n",
    "plt.text(0.65, 0.5, \"True Gain:\\n    %.1f $e^-$/ADC\" % (-popt[2]), fontsize=14, transform=plt.gca().transAxes)\n",
    "print(popt)\n",
    "\n",
    "plt.legend()\n",
    "\n",
    "plt.tight_layout()\n",
    "\n",
    "if dosave: plt.savefig(savedir + \"integral_calibration.pdf\")"
   ]
  },
  {
   "cell_type": "code",
   "execution_count": null,
   "id": "6a94809e",
   "metadata": {},
   "outputs": [],
   "source": [
    "bins = np.linspace(0, 0.02, 101)\n",
    "var = perhit_df.integral / perhit_df.true_nelec\n",
    "plt.ticklabel_format(axis=\"y\", style=\"sci\", scilimits=(0,0))\n",
    "plt.xlabel(\"True Charge / Reco. Integral Charge $e^-$/ADC\")\n",
    "plt.ylabel(\"Entries\")\n",
    "\n",
    "N,_,_ = plt.hist(var[when_plt], bins=bins, label=\"Entries\")\n",
    "\n",
    "Nfit = N\n",
    "centers = (bins[1:] + bins[:-1]) / 2.\n",
    "\n",
    "when_fit = (Nfit > 0)\n",
    "p0 = [np.max(Nfit), 0.005, 0.013, 1, 2.]\n",
    "fitf = fit_lossy\n",
    "\n",
    "popt, perr = curve_fit(fitf, centers[when_fit], Nfit[when_fit], sigma=np.sqrt(Nfit[when_fit]), \n",
    "                       p0=p0, maxfev=100_000)\n",
    "plt.plot(centers, fitf(centers, *popt), color=\"r\", label=\"Crystal-Ball Fit\")\n",
    "plt.axvline(popt[2], color=\"r\", linestyle=\":\")\n",
    "plt.text(0.05, 0.5, \"True Calo Cosnt:\\n    %.5f ADC/$e^-$\" % (popt[2]), fontsize=14, transform=plt.gca().transAxes)\n",
    "print(popt)\n",
    "\n",
    "plt.legend()\n",
    "\n",
    "plt.tight_layout()\n",
    "\n",
    "# if dosave: plt.savefig(savedir + \"integral_calibration.pdf\")"
   ]
  },
  {
   "cell_type": "code",
   "execution_count": null,
   "id": "ebd1dd5b",
   "metadata": {},
   "outputs": [],
   "source": [
    "1/78.1"
   ]
  },
  {
   "cell_type": "code",
   "execution_count": null,
   "id": "492e7ef7",
   "metadata": {},
   "outputs": [],
   "source": [
    "1/0.01263"
   ]
  },
  {
   "cell_type": "code",
   "execution_count": null,
   "id": "db5986a8",
   "metadata": {},
   "outputs": [],
   "source": []
  }
 ],
 "metadata": {
  "kernelspec": {
   "display_name": "Python 3 (ipykernel)",
   "language": "python",
   "name": "python3"
  },
  "language_info": {
   "codemirror_mode": {
    "name": "ipython",
    "version": 3
   },
   "file_extension": ".py",
   "mimetype": "text/x-python",
   "name": "python",
   "nbconvert_exporter": "python",
   "pygments_lexer": "ipython3",
   "version": "3.9.2"
  }
 },
 "nbformat": 4,
 "nbformat_minor": 5
}
