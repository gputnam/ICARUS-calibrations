{
 "cells": [
  {
   "cell_type": "code",
   "execution_count": null,
   "id": "9c8616ec",
   "metadata": {},
   "outputs": [],
   "source": [
    "%load_ext autoreload\n",
    "%autoreload 2\n",
    "\n",
    "import os\n",
    "import uproot\n",
    "import matplotlib.pyplot as plt\n",
    "import matplotlib.colors as colors\n",
    "import matplotlib.cbook as cbook\n",
    "from matplotlib.legend_handler import HandlerLine2D, HandlerTuple\n",
    "import numpy as np\n",
    "import pandas as pd\n",
    "from decimal import Decimal\n",
    "from scipy.stats import norm\n",
    "from scipy.optimize import curve_fit\n",
    "from scipy import stats\n",
    "import datetime as dt\n",
    "import scipy.optimize\n",
    "import landau\n",
    "from scipy.interpolate import CubicSpline, interp2d\n",
    "from scipy.integrate import quad\n",
    "from scipy.special import erf\n",
    "from numpy import linalg\n",
    "\n",
    "import importlib\n",
    "from multiprocessing import Pool\n",
    "\n",
    "from tqdm.auto import tqdm\n",
    "\n",
    "# local imports\n",
    "from lib.constants import *"
   ]
  },
  {
   "cell_type": "code",
   "execution_count": null,
   "id": "b091472c",
   "metadata": {},
   "outputs": [],
   "source": [
    "dosave = True\n",
    "plt.rcParams.update({'font.size': 14})\n",
    "plotqual = \"mc_\"\n",
    "savedir = \"./plots_11_14_23/%s\" % plotqual\n",
    "\n",
    "plottitle = \"Run %i\"\n",
    "tpcnames = [\"EE\", \"EW\", \"WE\", \"WW\"]\n",
    "\n",
    "datadir = \"/icarus/data/users/gputnam/DMCP2023G/calib-data/\"\n",
    "filedirs = [\n",
    "        \"/pnfs/sbn/persistent/users/gputnam/calib-data/Run1/\",\n",
    "]\n",
    "\n",
    "filedirs = [\n",
    "    \"/pnfs/sbn/persistent/users/gputnam/DMCP2023G/calib-mc/\",\n",
    "]\n",
    "\n",
    "isMC = True"
   ]
  },
  {
   "cell_type": "code",
   "execution_count": null,
   "id": "418d8134",
   "metadata": {},
   "outputs": [],
   "source": [
    "lifetime_file = datadir + \"lifetimes_runArun1run2.txt\"\n",
    "scaleyz_file = datadir + \"P2_scaleYZ_Run1.txt\""
   ]
  },
  {
   "cell_type": "code",
   "execution_count": null,
   "id": "8323389e",
   "metadata": {},
   "outputs": [],
   "source": [
    "from XRootD import client\n",
    "\n",
    "def open_hdf(fname):\n",
    "    if not fname.startswith(\"/pnfs\"):\n",
    "        return pd.read_hdf(fname, key=\"df\")\n",
    "    \n",
    "    fname = fname.replace(\"/pnfs\", \"root://fndca1.fnal.gov:1094/pnfs/fnal.gov/usr\")\n",
    "    d = {}\n",
    "    with client.File() as f:\n",
    "        f.open(fname)\n",
    "        with pd.HDFStore(\n",
    "                \"data.h5\",\n",
    "                mode=\"r\",\n",
    "                driver=\"H5FD_CORE\",\n",
    "                driver_core_backing_store=0,\n",
    "                driver_core_image=f.read()[1]\n",
    "                ) as store:\n",
    "            return store[\"df\"]"
   ]
  },
  {
   "cell_type": "code",
   "execution_count": null,
   "id": "77bf2951",
   "metadata": {},
   "outputs": [],
   "source": [
    "if not isMC:\n",
    "    files = [filedir+f for filedir in filedirs for f in os.listdir(filedir) if f.endswith(\".df\") and f.startswith(\"calib\") \n",
    "             and \"anode\" not in f and \"old\" not in f and \"sce\" not in f for filedir in filedirs]\n",
    "\n",
    "else:\n",
    "    files = [filedirs[0] + \"calib_mcnuphase2.df\"]\n",
    "    \n",
    "files"
   ]
  },
  {
   "cell_type": "code",
   "execution_count": null,
   "id": "3122a0fd",
   "metadata": {},
   "outputs": [],
   "source": [
    "dfs = [pd.read_hdf(f) for f in files]\n",
    "# dfs = [open_hdf(f) for f in files]"
   ]
  },
  {
   "cell_type": "code",
   "execution_count": null,
   "id": "e2f589fc",
   "metadata": {},
   "outputs": [],
   "source": [
    "offset = 0\n",
    "for i,(fname, df) in enumerate(zip(files, dfs)):\n",
    "    df[\"itrk\"] = df.index.get_level_values(0) + offset\n",
    "    if not df.empty:\n",
    "        offset += df.index.get_level_values(0).max() + 1\n",
    "    if \"anode\" in fname:\n",
    "        df[\"anode\"] = True\n",
    "    else:\n",
    "        df[\"anode\"] = False\n",
    "    dfs[i] = df.join((df.true_rr.groupby(level=0).min() < 10).rename(\"true_stopping\"))\n",
    "    # dfs[i] = dfs[i][(df.pitch < 0.4)]\n",
    "    \n",
    "#     if isMC:\n",
    "#         dfs[i] = dfs[i][dfs[i].whicht0 == 0]"
   ]
  },
  {
   "cell_type": "code",
   "execution_count": null,
   "id": "03845903",
   "metadata": {},
   "outputs": [],
   "source": [
    "if not isMC:\n",
    "    todelete = [c for c in dfs[0].columns if \"true_\" in c or \"trueh_\" in c]\n",
    "    todelete += [\"michelE\", \"closest_tdaughter\"]\n",
    "    for df in dfs:\n",
    "        for c in todelete:\n",
    "            if c in df:\n",
    "                del df[c]"
   ]
  },
  {
   "cell_type": "code",
   "execution_count": null,
   "id": "5c7a280f",
   "metadata": {},
   "outputs": [],
   "source": [
    "data = pd.concat(dfs, ignore_index=True)"
   ]
  },
  {
   "cell_type": "code",
   "execution_count": null,
   "id": "85bd967a",
   "metadata": {},
   "outputs": [],
   "source": [
    "del dfs"
   ]
  },
  {
   "cell_type": "code",
   "execution_count": null,
   "id": "481fa2f6",
   "metadata": {},
   "outputs": [],
   "source": [
    "data.columns"
   ]
  },
  {
   "cell_type": "code",
   "execution_count": null,
   "id": "d7043205",
   "metadata": {},
   "outputs": [],
   "source": [
    "data[:10000]"
   ]
  },
  {
   "cell_type": "code",
   "execution_count": null,
   "id": "9f3158ff",
   "metadata": {},
   "outputs": [],
   "source": [
    "data[\"thit\"] = (data.time * tick_period - data.pandora_t0 - tanode*tick_period) / 1000."
   ]
  },
  {
   "cell_type": "code",
   "execution_count": null,
   "id": "48746e00",
   "metadata": {},
   "outputs": [],
   "source": [
    "is_stopping = True # x_endp_fid_perhit #"
   ]
  },
  {
   "cell_type": "code",
   "execution_count": null,
   "id": "cfded279",
   "metadata": {},
   "outputs": [],
   "source": [
    "data[\"tpcEE\"] = data.tpcE & (data.cryostat == 0)\n",
    "data[\"tpcEW\"] = ~data.tpcE & (data.cryostat == 0)\n",
    "data[\"tpcWE\"] = data.tpcE & (data.cryostat == 1)\n",
    "data[\"tpcWW\"] = ~data.tpcE & (data.cryostat == 1)"
   ]
  },
  {
   "cell_type": "code",
   "execution_count": null,
   "id": "cca7e34a",
   "metadata": {},
   "outputs": [],
   "source": [
    "data[\"itpc\"] = -1\n",
    "data.loc[data.tpcEE, \"itpc\"] = 0\n",
    "data.loc[data.tpcEW, \"itpc\"] = 1\n",
    "data.loc[data.tpcWE, \"itpc\"] = 2\n",
    "data.loc[data.tpcWW, \"itpc\"] = 3"
   ]
  },
  {
   "cell_type": "code",
   "execution_count": null,
   "id": "a26ad95b",
   "metadata": {},
   "outputs": [],
   "source": [
    "data[\"lifetime\"] = np.nan\n",
    "\n",
    "if not isMC:\n",
    "    with open(lifetime_file) as f:\n",
    "        next(f)\n",
    "        for line in f:\n",
    "            dat = list(map(float, line.rstrip(\"\\n\").split(\" \")))\n",
    "            run = int(dat[0])\n",
    "            data.loc[(data.run == run) & data.tpcEE, \"lifetime\"] = dat[1]\n",
    "            data.loc[(data.run == run) & data.tpcEW, \"lifetime\"] = dat[2]\n",
    "            data.loc[(data.run == run) & data.tpcWE, \"lifetime\"] = dat[3]\n",
    "            data.loc[(data.run == run) & data.tpcWW, \"lifetime\"] = dat[4]\n",
    "else:\n",
    "    data.lifetime = 3e3\n",
    "        \n",
    "# data.lifetime = 3e3"
   ]
  },
  {
   "cell_type": "code",
   "execution_count": null,
   "id": "898207ea",
   "metadata": {},
   "outputs": [],
   "source": [
    "yz_ybin = np.linspace(-180, 130, 32)\n",
    "yz_ylos = yz_ybin[:-1]\n",
    "yz_yhis = yz_ybin[1:]\n",
    "yz_ys = (yz_ylos + yz_yhis) / 2.\n",
    "\n",
    "yz_zbin = np.linspace(-900, 900, 181)\n",
    "yz_zlos = yz_zbin[:-1]\n",
    "yz_zhis = yz_zbin[1:]\n",
    "yz_zs = (yz_zlos + yz_zhis) / 2.\n",
    "\n",
    "if isMC:\n",
    "    yz_ybin = np.linspace(-180, 120, 11)\n",
    "    yz_ylos = yz_ybin[:-1]\n",
    "    yz_yhis = yz_ybin[1:]\n",
    "    yz_ys = (yz_ylos + yz_yhis) / 2.\n",
    "\n",
    "    yz_zbin = np.linspace(-900, 900, 61)\n",
    "    yz_zlos = yz_zbin[:-1]\n",
    "    yz_zhis = yz_zbin[1:]\n",
    "    yz_zs = (yz_zlos + yz_zhis) / 2."
   ]
  },
  {
   "cell_type": "code",
   "execution_count": null,
   "id": "fa991b8c",
   "metadata": {},
   "outputs": [],
   "source": [
    "data[\"ybin\"] = np.searchsorted(yz_ybin, data.p_y.values) - 1"
   ]
  },
  {
   "cell_type": "code",
   "execution_count": null,
   "id": "35568895",
   "metadata": {},
   "outputs": [],
   "source": [
    "data[\"zbin\"] = np.searchsorted(yz_zbin, data.p_z.values) - 1"
   ]
  },
  {
   "cell_type": "code",
   "execution_count": null,
   "id": "0f7a8621",
   "metadata": {},
   "outputs": [],
   "source": [
    "data[\"scale_yz\"] = np.nan\n",
    "\n",
    "if not isMC:\n",
    "    idx = []\n",
    "    scales = []\n",
    "\n",
    "    with open(scaleyz_file) as f:\n",
    "        next(f)\n",
    "        for line in f:\n",
    "            dat = line.rstrip(\"\\n\").split(\"\\t\")\n",
    "            tpc = dat[0]\n",
    "            iy = int(dat[1])\n",
    "            iz = int(dat[2])\n",
    "            scale = float(dat[3])\n",
    "\n",
    "            idx.append((tpcnames.index(tpc), iy, iz))\n",
    "            scales.append(scale)\n",
    "\n",
    "    scaledf = pd.DataFrame(scales, index=pd.MultiIndex.from_tuples(idx, names=[\"itpc\", \"ybin\", \"zbin\"]), \n",
    "                           columns=[\"scale_yz\"])\n",
    "    dtmp = pd.merge(data[[\"itpc\", \"ybin\", \"zbin\"]], scaledf, on=[\"itpc\", \"ybin\", \"zbin\"], how=\"left\")\n",
    "    \n",
    "    data[\"scale_yz\"] = dtmp.scale_yz\n",
    "    \n",
    "    del dtmp\n",
    "\n",
    "else:\n",
    "    data.scale_yz = 1"
   ]
  },
  {
   "cell_type": "code",
   "execution_count": null,
   "id": "dd2cddbf",
   "metadata": {},
   "outputs": [],
   "source": [
    "data.scale_yz"
   ]
  },
  {
   "cell_type": "code",
   "execution_count": null,
   "id": "90a6b171",
   "metadata": {},
   "outputs": [],
   "source": [
    "data.dqdx_nocorr"
   ]
  },
  {
   "cell_type": "code",
   "execution_count": null,
   "id": "56ba3c11",
   "metadata": {},
   "outputs": [],
   "source": [
    "# Normalize by drift time\n",
    "data[\"dqdx_normt\"] = data.dqdx_nocorr * np.exp(data.thit / data.lifetime)\n",
    "data[\"dqdx_normyz\"] = data.dqdx_nocorr / data.scale_yz\n",
    "data[\"dqdx_normed\"] = data.dqdx_normt / data.scale_yz"
   ]
  },
  {
   "cell_type": "code",
   "execution_count": null,
   "id": "3ba41ce3",
   "metadata": {},
   "outputs": [],
   "source": [
    "def fidYZ(data, iny=20, inz=100):\n",
    "    ymax = 134\n",
    "    ymin = -180\n",
    "    \n",
    "    zmin = -900\n",
    "    zmax = 900\n",
    "    \n",
    "    fid = (data.p_y > ymin + iny) & (data.p_y < ymax - iny)\\\n",
    "        & (data.p_z < zmax - inz) & (data.p_z > zmin + inz)\n",
    "    \n",
    "    if not isMC:\n",
    "        # Cut out some problem regions in the detector\n",
    "        fid = fid & (np.abs(data.p_z) > 10)\n",
    "\n",
    "        # TPC EW -- not that bad\n",
    "#         bad_tpcEW = data.tpcEW & (data.p_z > 700) & (data.p_y < 0)\n",
    "        bad_tpcEW = False\n",
    "    \n",
    "        # TPC WW\n",
    "        bad_tpcWW = data.tpcWW & (data.p_y > 80) & (data.p_z > 0)\n",
    "\n",
    "        fid = fid & ~bad_tpcEW & ~bad_tpcWW\n",
    "    \n",
    "    return fid"
   ]
  },
  {
   "cell_type": "code",
   "execution_count": null,
   "id": "e89e3d93",
   "metadata": {},
   "outputs": [],
   "source": [
    "data[\"fid\"] = fidYZ(data)"
   ]
  },
  {
   "cell_type": "code",
   "execution_count": null,
   "id": "46afe6a5",
   "metadata": {},
   "outputs": [],
   "source": [
    "data.fid.sum()"
   ]
  },
  {
   "cell_type": "code",
   "execution_count": null,
   "id": "438b81f9",
   "metadata": {},
   "outputs": [],
   "source": [
    "# (data.fid & is_stopping & data.true_stopping).sum() / (data.fid & is_stopping).sum()"
   ]
  },
  {
   "cell_type": "code",
   "execution_count": null,
   "id": "09045d44",
   "metadata": {},
   "outputs": [],
   "source": [
    "# bins = np.linspace(0, 2500, 26)\n",
    "\n",
    "# _ = plt.hist(cm2_dqdx, bins=bins)"
   ]
  },
  {
   "cell_type": "code",
   "execution_count": null,
   "id": "f93b5064",
   "metadata": {},
   "outputs": [],
   "source": [
    "rpt = data.groupby(\"itrk\").itrk.count()"
   ]
  },
  {
   "cell_type": "code",
   "execution_count": null,
   "id": "19f85b4d",
   "metadata": {},
   "outputs": [],
   "source": [
    "# cm2_dqdx_perhit = np.repeat(cm2_dqdx.values, rpt) "
   ]
  },
  {
   "cell_type": "code",
   "execution_count": null,
   "id": "1e605493",
   "metadata": {},
   "outputs": [],
   "source": [
    "# data[\"cm2_dqdx\"] = cm2_dqdx_perhit"
   ]
  },
  {
   "cell_type": "code",
   "execution_count": null,
   "id": "ea280fe4",
   "metadata": {},
   "outputs": [],
   "source": [
    "endp_ind = data.groupby(\"itrk\").rr.idxmin()"
   ]
  },
  {
   "cell_type": "code",
   "execution_count": null,
   "id": "120c9e0f",
   "metadata": {},
   "outputs": [],
   "source": [
    "x_endp = data.p_x.loc[endp_ind]"
   ]
  },
  {
   "cell_type": "code",
   "execution_count": null,
   "id": "7b1f239c",
   "metadata": {},
   "outputs": [],
   "source": [
    "x_endp_fid = (np.abs(x_endp) > 61.94 + 15) & (np.abs(x_endp) < 358.49 - 15)"
   ]
  },
  {
   "cell_type": "code",
   "execution_count": null,
   "id": "baa2f025",
   "metadata": {},
   "outputs": [],
   "source": [
    "x_endp_fid_perhit = np.repeat(x_endp_fid.values, rpt) "
   ]
  },
  {
   "cell_type": "code",
   "execution_count": null,
   "id": "025229f6",
   "metadata": {},
   "outputs": [],
   "source": [
    "data[\"x_endp_fid\"] = x_endp_fid_perhit"
   ]
  },
  {
   "cell_type": "code",
   "execution_count": null,
   "id": "ae3dafd6",
   "metadata": {},
   "outputs": [],
   "source": [
    "_ = plt.hist(data.p_y)"
   ]
  },
  {
   "cell_type": "code",
   "execution_count": null,
   "id": "f2bf27c0",
   "metadata": {},
   "outputs": [],
   "source": [
    "bins = np.linspace(0, 1000, 21)\n",
    "_ = plt.hist(data.thit[(data.rr > 80) & data.fid], bins=bins)\n",
    "plt.xlabel(\"Hit Drift Time [$\\\\mu$s]\")\n",
    "plt.ylabel(\"Entries (R.R. > 80cm)\")\n",
    "plt.tight_layout()\n",
    "\n",
    "# if dosave: plt.savefig(savedir + \"hit_time.pdf\")"
   ]
  },
  {
   "cell_type": "code",
   "execution_count": null,
   "id": "dc8eea5b",
   "metadata": {},
   "outputs": [],
   "source": [
    "bins = np.linspace(0, 2, 21)\n",
    "_ = plt.hist(data.pitch[(data.rr > 80) & data.fid], bins=bins)\n",
    "plt.xlabel(\"Hit Pitch [cm]\")\n",
    "plt.ylabel(\"Entries (R.R. > 80cm)\")\n",
    "plt.tight_layout()\n",
    "\n",
    "# if dosave: plt.savefig(savedir + \"hit_pitch.pdf\")"
   ]
  },
  {
   "cell_type": "code",
   "execution_count": null,
   "id": "5a1b7947",
   "metadata": {},
   "outputs": [],
   "source": [
    "bins = np.linspace(50, 300, 51)\n",
    "_ = plt.hist(data.rr[data.fid], bins=bins)\n",
    "\n",
    "plt.xlabel(\"Hit Residual Range [cm]\")\n",
    "plt.ylabel(\"Fiducial Entries\")\n",
    "plt.tight_layout()\n",
    "\n",
    "# if dosave: plt.savefig(savedir + \"hit_rr.pdf\")"
   ]
  },
  {
   "cell_type": "code",
   "execution_count": null,
   "id": "57eebcfd",
   "metadata": {},
   "outputs": [],
   "source": [
    "import gc\n",
    "gc.collect()"
   ]
  },
  {
   "cell_type": "code",
   "execution_count": null,
   "id": "abfacb77",
   "metadata": {},
   "outputs": [],
   "source": [
    "categories = [data.tpcEE, data.tpcEW, data.tpcWE, data.tpcWW]\n",
    "names = [\"TPC EE\", \"TPC EW\", \"TPC WE\", \"TPC WW\"]\n",
    "\n",
    "if isMC:\n",
    "    data[\"MC\"] = True\n",
    "    categories = [data.MC]\n",
    "    names = [\"MC\"]\n",
    "\n",
    "DQDX_NAME = \"dqdx_normed\""
   ]
  },
  {
   "cell_type": "code",
   "execution_count": null,
   "id": "8557a902",
   "metadata": {},
   "outputs": [],
   "source": [
    "bins = np.linspace(0, 4000, 41)\n",
    "when = (data.pitch > 0.3) & (data.pitch < 0.4) & categories[-1] & is_stopping #& (data.cm2_dqdx > 1200)\n",
    "varx = data.rr\n",
    "vary = data.dqdx_normed\n",
    "\n",
    "_ = plt.hist2d(varx[when], vary[when], bins=[np.linspace(0, 50, 41), bins])\n",
    "# plt.ylim([500, 1500])"
   ]
  },
  {
   "cell_type": "code",
   "execution_count": null,
   "id": "d694ad7b",
   "metadata": {},
   "outputs": [],
   "source": [
    "# dQdx binning\n",
    "bins = np.linspace(200, 4000, 38*4+1)\n",
    "bin_centers = (bins[1:] + bins[:-1]) / 2."
   ]
  },
  {
   "cell_type": "code",
   "execution_count": null,
   "id": "86569cfd",
   "metadata": {},
   "outputs": [],
   "source": [
    "when = (data.pitch > 0.3) & (data.pitch < 0.4) & (data.rr > 200) & data.fid & data.tpcWW\n",
    "\n",
    "_ = plt.hist(data.dqdx_nocorr[when], bins=bins, histtype=\"step\", label=\"No Corr\")\n",
    "# _ = plt.hist(data.dqdx_normyz[when], bins=bins, histtype=\"step\")\n",
    "\n",
    "_ = plt.hist(data.dqdx_normt[when], bins=bins, histtype=\"step\", label=\"T Corr\")\n",
    "_ = plt.hist(data.dqdx_normed[when], bins=bins, histtype=\"step\", label=\"T+Y-Z Corr\")\n",
    "\n",
    "plt.legend()\n",
    "plt.xlim([200, 1500])\n",
    "\n",
    "plt.xlabel(\"dQ/dx [ADDC]\")\n",
    "plt.ylabel(\"Hits\")\n",
    "\n",
    "plt.title(names[-1].replace(\"_\", \" \"))\n",
    "\n",
    "plt.text(0.525, 0.35, \"200 < R.R. < 300cm\\n0.3 < pitch < 0.4cm\", transform=plt.gca().transAxes)\n",
    "\n",
    "plt.tight_layout()\n",
    "# if dosave:\n",
    "#     plt.savefig(savedir + \"dqdx_resoluiton.pdf\")"
   ]
  },
  {
   "cell_type": "code",
   "execution_count": null,
   "id": "cb02d643",
   "metadata": {},
   "outputs": [],
   "source": [
    "DRIFTS = [500, 600, 700, 800, 900]\n",
    "DRIFTLOS = DRIFTS[:-1]\n",
    "DRIFTHIS = DRIFTS[1:]"
   ]
  },
  {
   "cell_type": "code",
   "execution_count": null,
   "id": "78d871bc",
   "metadata": {},
   "outputs": [],
   "source": [
    "PITCHES = [0.3, 0.4] #, 0.6] #, 0.8]\n",
    "\n",
    "PITCHLOS = PITCHES[:-1]\n",
    "PITCHHIS = PITCHES[1:]"
   ]
  },
  {
   "cell_type": "code",
   "execution_count": null,
   "id": "5c68986e",
   "metadata": {},
   "outputs": [],
   "source": [
    "def landau_gaus(X, *p):\n",
    "    mpv, eta, sigma, A = p\n",
    "    sigma = np.minimum(sigma, 100*eta)\n",
    "    return landau.landau.gauss_landau(X, mpv, eta, sigma, A)\n",
    "\n",
    "def langau_chi2(x, y, yerr, popt):\n",
    "    return np.sum(((landau_gaus(x, *popt) - y) / yerr)**2)\n",
    "\n",
    "def opt_to_mpv(popt, perr):\n",
    "    mpv = popt[0] - 0.22278*popt[1]\n",
    "    mpv_err = np.sqrt(np.diag(perr)[0] + (0.22278)**2*np.diag(perr)[1] - 0.22278*(perr[0,1] + perr[1,0]))\n",
    "    return mpv, mpv_err\n"
   ]
  },
  {
   "cell_type": "code",
   "execution_count": null,
   "id": "7311e22d",
   "metadata": {},
   "outputs": [],
   "source": [
    "data.columns"
   ]
  },
  {
   "cell_type": "code",
   "execution_count": null,
   "id": "8dd5dbec",
   "metadata": {},
   "outputs": [],
   "source": [
    "if not isMC:\n",
    "    del data[\"integral\"]\n",
    "    del data[\"wire\"]\n",
    "    #del data[\"t0_tpcE\"]\n",
    "    #del data[\"t0_tpcW\"]\n",
    "    \n",
    "    del data[\"width\"]\n",
    "    del data[\"sumadc\"]\n",
    "    # del data[\"dqdx_nocorr\"]\n",
    "    del data[\"mint_tpcE\"]\n",
    "    del data[\"maxt_tpcE\"]\n",
    "    del data[\"mint_tpcW\"]\n",
    "    del data[\"maxt_tpcW\"]\n",
    "    \n",
    "    del data[\"dir_y\"]\n",
    "    del data[\"dir_z\"]\n",
    "    del data[\"ybin\"]\n",
    "    del data[\"zbin\"]\n",
    "    del data[\"run\"]\n",
    "    del data[\"evt\"]\n",
    "    del data[\"subrun\"]"
   ]
  },
  {
   "cell_type": "code",
   "execution_count": null,
   "id": "86524c41",
   "metadata": {},
   "outputs": [],
   "source": [
    "data.columns"
   ]
  },
  {
   "cell_type": "code",
   "execution_count": null,
   "id": "aa4aced2",
   "metadata": {},
   "outputs": [],
   "source": [
    "import gc\n",
    "gc.collect()"
   ]
  },
  {
   "cell_type": "code",
   "execution_count": null,
   "id": "3ee3d6da",
   "metadata": {},
   "outputs": [],
   "source": [
    "data[\"phi\"] = np.arccos(np.abs(data.dir_x))*180/np.pi"
   ]
  },
  {
   "cell_type": "code",
   "execution_count": null,
   "id": "474af6fc",
   "metadata": {},
   "outputs": [],
   "source": [
    "data[\"thxw\"] = np.abs(np.arctan(data.dir_x*data.pitch/0.3)*180/np.pi)"
   ]
  },
  {
   "cell_type": "code",
   "execution_count": null,
   "id": "8d8b9510",
   "metadata": {},
   "outputs": [],
   "source": [
    "_ = plt.hist(data.phi)"
   ]
  },
  {
   "cell_type": "code",
   "execution_count": null,
   "id": "ac7078ec",
   "metadata": {},
   "outputs": [],
   "source": [
    "mpv_df = pd.DataFrame(\n",
    "    columns = [\n",
    "        \"rr\",\n",
    "        \"rrlo\",\n",
    "        \"rrhi\",\n",
    "        \"pitch\",\n",
    "        \"pitchlo\",\n",
    "        \"pitchhi\",\n",
    "        \"tdrift\",\n",
    "        \"tlo\",\n",
    "        \"thi\",\n",
    "        \"mpv\",\n",
    "        \"mpv_err\",\n",
    "        \"loc\",\n",
    "        \"loc_err\",\n",
    "        \"eta\",\n",
    "        \"eta_err\",\n",
    "        \"sigma\",\n",
    "        \"sigma_err\",\n",
    "        \"phi\",\n",
    "        \"philo\",\n",
    "        \"phihi\",\n",
    "        \"A\",\n",
    "        \"A_err\",\n",
    "        \"N\",\n",
    "        \"chi2\",\n",
    "    ] + [n.replace(\" \", \"_\") for n in names] \\\n",
    "    + [\"bin%i\" % i for i in range(len(bin_centers))] \\\n",
    "    + [\"N%i\" % i for i in range(len(bin_centers))]\n",
    ")"
   ]
  },
  {
   "cell_type": "code",
   "execution_count": null,
   "id": "0a1b8315",
   "metadata": {},
   "outputs": [],
   "source": [
    "def inner(inp):\n",
    "    wirep = 0.3\n",
    "    (c, name, idrift, dlo, dhi, ip, pitchlo, pitchhi, irr, rrlo, rrhi) = inp\n",
    "\n",
    "    when = (data.pitch < pitchhi) & (data.pitch > pitchlo) &\\\n",
    "        (data.thit < dhi) & (data.thit > dlo) &\\\n",
    "        (data.rr > rrlo) & (data.rr < rrhi) & c &\\\n",
    "        (data.phi > 80) & (data.phi < 85) &\\\n",
    "        (data.thxw > 5) & (data.thxw < 20) &\\\n",
    "        is_stopping & data.fid\n",
    "    \n",
    "    # print(data.groupby(\"itrk\").rr.max()[data.groupby(\"itrk\").longtrk.first()].min())\n",
    "\n",
    "    # Guesstimate of the MPV dQ/dx range\n",
    "    if rrlo < 1.:\n",
    "        mpv_lo = 1000.\n",
    "        mpv_hi = 4000.\n",
    "        mpv0 = 2500.\n",
    "    elif rrlo < 5.:\n",
    "        mpv_lo = 800.\n",
    "        mpv_hi = 2000.\n",
    "        mpv0 = 1500.\n",
    "    elif rrlo < 10.:\n",
    "        mpv_lo = 500.\n",
    "        mpv_hi = 1500.\n",
    "        mpv0 = 1000.\n",
    "    else:\n",
    "        mpv_lo = 500.\n",
    "        mpv0 = 640.\n",
    "        mpv_hi = 1000.\n",
    "\n",
    "    N,_ = np.histogram(data[DQDX_NAME][when], bins=bins)\n",
    "    \n",
    "    # only fit near peak\n",
    "    maxbin = np.argmax(N)\n",
    "    if np.max(N) < 50:\n",
    "        return None\n",
    "\n",
    "    when_fit = np.abs(np.array(range(len(bin_centers))) - maxbin) < 20 # within 10 bin\n",
    "\n",
    "    p0 = [mpv0, 35, 100, np.max(N) / landau_gaus(mpv0, mpv0, 35, 100, 1)]\n",
    "    bounds = ([mpv_lo, 5, 25, np.max(N)*40/100.], [mpv_hi, 150., 350., np.max(N)*40*100.])\n",
    "    fitfun = landau_gaus\n",
    "    \n",
    "    popt, perr = curve_fit(fitfun, bin_centers[when_fit], N[when_fit], \n",
    "                           p0=p0, maxfev=1_000_000, sigma=np.maximum(np.sqrt(N),1)[when_fit], bounds=bounds)\n",
    "\n",
    "    m, m_err = opt_to_mpv(popt, perr)\n",
    "    \n",
    "    chi2 = langau_chi2(bin_centers, N, np.maximum(np.sqrt(N), 1), popt) / (np.sum(N>0) -2)\n",
    "    \n",
    "    phi = np.mean(data.phi[when])\n",
    "    phi_std = np.std(data.phi[when])\n",
    "\n",
    "    row = {\n",
    "        \"rr\": RRs[irr],\n",
    "        \"rrlo\": rrlo,\n",
    "        \"rrhi\": rrhi,\n",
    "        \"pitch\": (pitchlo + pitchhi)/2.,\n",
    "        \"pitchlo\": pitchlo,\n",
    "        \"pitchhi\": pitchhi,\n",
    "        \"tdrift\": (dlo + dhi) / 2.,\n",
    "        \"tlo\": dlo,\n",
    "        \"thi\": dhi,\n",
    "        \"mpv\": m,\n",
    "        \"mpv_err\": m_err,\n",
    "        \"loc\": popt[0],\n",
    "        \"loc_err\": np.sqrt(np.diag(perr))[0],\n",
    "        \"eta\": popt[1],\n",
    "        \"eta_err\": np.sqrt(np.diag(perr))[1],\n",
    "        \"sigma\": popt[2],\n",
    "        \"sigma_err\": np.sqrt(np.diag(perr))[2],\n",
    "        \"phi\": phi,\n",
    "        \"philo\": phi - phi_std,\n",
    "        \"phihi\": phi + phi_std,\n",
    "        \"A\": popt[3],\n",
    "        \"A_err\": np.sqrt(np.diag(perr))[3],\n",
    "        \"N\": when.sum(),\n",
    "        \"chi2\": chi2,\n",
    "    }\n",
    "    for n in names:\n",
    "        row[n.replace(\" \", \"_\")] = (n == name)\n",
    "    for i, (b, n) in enumerate(zip(bin_centers, N)):\n",
    "        row[\"bin%i\" % i] = b\n",
    "        row[\"N%i\" % i] = n\n",
    "\n",
    "    for k in row.keys():\n",
    "        row[k] = [row[k]]\n",
    "\n",
    "    return row"
   ]
  },
  {
   "cell_type": "code",
   "execution_count": null,
   "id": "335b6f7d",
   "metadata": {},
   "outputs": [],
   "source": [
    "# Residual Range binning\n",
    "#rrs = np.linspace(50., 200., 31)\n",
    "#rrs = np.hstack([np.linspace(0, 6, 7), np.linspace(8, 18, 6), np.linspace(20., 200., 37)])\n",
    "rrs = np.hstack([np.linspace(0, 6, 7), np.linspace(8, 18, 6), np.linspace(20., 155., 135//5+1), np.linspace(160, 300, 15)])\n",
    "\n",
    "rrhis = rrs[1:]\n",
    "rrlos = rrs[:-1]\n",
    "RRs = (rrhis + rrlos)/2."
   ]
  },
  {
   "cell_type": "code",
   "execution_count": null,
   "id": "e76afc9c",
   "metadata": {},
   "outputs": [],
   "source": [
    "name = names[-1]\n",
    "category = categories[-1]\n",
    "\n",
    "row = inner((category, name, 1, 800, 900, 0, 0.3, 0.4, -1, 80, 85))\n",
    "\n",
    "row_df = pd.concat([mpv_df, pd.DataFrame(row)])"
   ]
  },
  {
   "cell_type": "code",
   "execution_count": null,
   "id": "513e0827",
   "metadata": {},
   "outputs": [],
   "source": [
    "# Plot fits\n",
    "\n",
    "ifig = 0\n",
    "\n",
    "for index, row in (row_df.iterrows()):\n",
    "    \n",
    "    plt.figure(ifig)\n",
    "    \n",
    "    name = [n for n in names if row[n.replace(\" \", \"_\")]][0]\n",
    "\n",
    "    N,_,_ = plt.hist(bin_centers, bins=bins, label=\"Data\", weights=[row[\"N%i\" % i] for i in range(len(bin_centers))])\n",
    "    chi2 = row.chi2\n",
    "\n",
    "    plt.plot(bin_centers, landau_gaus(bin_centers, row[\"loc\"], row.eta, row.sigma, row.A), \n",
    "             label=\"Fit\")\n",
    "    \n",
    "    plt.legend(fontsize=14)\n",
    "    plt.text(0.53, 0.09, \"%.0f < R.R. < %.0f cm\\n%.0f < $t_\\\\mathrm{drift}$ < %.0f $\\mu$s\\n%.2f < pitch < %.2f cm\\n\\nMPV = %.2f ADDC/cm\\n$\\eta$ = %.2f ADDC/cm\\n$\\sigma$ = %.2f ADDC/cm\\n$\\\\tilde{\\\\chi}^2$=%.2f\" %\n",
    "                  (row.rrlo, row.rrhi, row.tlo, row.thi, row.pitchlo, row.pitchhi, row.mpv, row.eta, row.sigma, chi2),\n",
    "            fontsize=12, transform=plt.gca().transAxes)\n",
    "\n",
    "    plt.xlabel(\"dQ/dx [ADDC/cm]\")\n",
    "    plt.ylabel(\"# Depositions\")\n",
    "    plt.title(name)\n",
    "    if row.rr < 2.:\n",
    "        plt.xlim([200., 4000.])\n",
    "    elif row.rr < 5.:\n",
    "        plt.xlim([200., 3000.])\n",
    "    elif row.rr < 10.:\n",
    "        plt.xlim([200., 2500.])\n",
    "    else:\n",
    "        plt.xlim([200., 2000.])\n",
    "\n",
    "    plt.tight_layout()\n",
    "    #if dosave: plt.savefig((savedir + \"dqdx_langau_fit_RR%.0f_%.0f_%s_pitch%.2f_drift%.0f\" %\n",
    "    #                       (row.rrlo, row.rrhi, name, row.pitch, row.tdrift)).replace(\".\", \"_\") + \".pdf\")\n",
    "\n",
    "    ifig += 1\n"
   ]
  },
  {
   "cell_type": "code",
   "execution_count": null,
   "id": "30af9b91",
   "metadata": {},
   "outputs": [],
   "source": [
    "# Fit for all the MPV's\n",
    "with Pool(processes=24) as pool:\n",
    "    with tqdm(total=len(names)*len(DRIFTLOS)*len(PITCHLOS)*len(rrlos)) as pbar:\n",
    "        for c, name in zip(categories, names):\n",
    "            for idrift, (dlo, dhi) in enumerate(zip(DRIFTLOS, DRIFTHIS)):\n",
    "                for ip, (plo, phi) in enumerate(zip(PITCHLOS, PITCHHIS)):\n",
    "                    inp = [(c, name, idrift, dlo, dhi, ip, plo, phi, irr, rrlo, rrhi) for \n",
    "                               irr, (rrlo, rrhi) in enumerate(zip(rrlos, rrhis))]\n",
    "\n",
    "                    for row in pool.imap_unordered(inner, inp):\n",
    "                        if row:\n",
    "                            mpv_df = pd.concat([mpv_df, pd.DataFrame(row)], ignore_index=True)\n",
    "\n",
    "                    pbar.update(len(rrlos))"
   ]
  },
  {
   "cell_type": "code",
   "execution_count": null,
   "id": "73d2d050",
   "metadata": {},
   "outputs": [],
   "source": [
    "mpv_df_save = mpv_df.infer_objects()"
   ]
  },
  {
   "cell_type": "code",
   "execution_count": null,
   "id": "a8625197",
   "metadata": {},
   "outputs": [],
   "source": [
    "mpv_df_save.phi"
   ]
  },
  {
   "cell_type": "code",
   "execution_count": null,
   "id": "71ab76a5",
   "metadata": {},
   "outputs": [],
   "source": [
    "if dosave:\n",
    "     mpv_df_save.to_hdf(datadir + \"mpvs_muon_phi80-85_mcnuphase2.df\", key=\"df\")"
   ]
  },
  {
   "cell_type": "code",
   "execution_count": null,
   "id": "5d046fad",
   "metadata": {},
   "outputs": [],
   "source": []
  }
 ],
 "metadata": {
  "kernelspec": {
   "display_name": "Python 3 (ipykernel)",
   "language": "python",
   "name": "python3"
  },
  "language_info": {
   "codemirror_mode": {
    "name": "ipython",
    "version": 3
   },
   "file_extension": ".py",
   "mimetype": "text/x-python",
   "name": "python",
   "nbconvert_exporter": "python",
   "pygments_lexer": "ipython3",
   "version": "3.9.2"
  }
 },
 "nbformat": 4,
 "nbformat_minor": 5
}
