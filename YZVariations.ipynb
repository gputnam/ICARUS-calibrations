{
 "cells": [
  {
   "cell_type": "code",
   "execution_count": null,
   "id": "0",
   "metadata": {},
   "outputs": [],
   "source": [
    "%load_ext autoreload\n",
    "%autoreload 2\n",
    "\n",
    "import uproot\n",
    "import matplotlib\n",
    "\n",
    "import matplotlib.pyplot as plt\n",
    "import matplotlib.colors as colors\n",
    "import matplotlib.cbook as cbook\n",
    "import numpy as np\n",
    "import pandas as pd\n",
    "from decimal import Decimal\n",
    "from scipy.stats import norm\n",
    "from scipy.optimize import curve_fit\n",
    "from scipy import stats, interpolate\n",
    "import scipy\n",
    "import warnings\n",
    "import datetime as dt\n",
    "import landau\n",
    "from multiprocessing import Pool, cpu_count\n",
    "\n",
    "from matplotlib.patches import Rectangle\n",
    "\n",
    "import importlib\n",
    "import os\n",
    "from tqdm.auto import tqdm\n",
    "\n",
    "# local imports\n",
    "from lib.constants import *\n",
    "\n",
    "from scipy.integrate import quad, tplquad\n",
    "from scipy.special import erf\n",
    "from scipy.interpolate import CubicSpline"
   ]
  },
  {
   "cell_type": "code",
   "execution_count": null,
   "id": "1",
   "metadata": {},
   "outputs": [],
   "source": [
    "dosave = True\n",
    "plttitle = \"ICARUS Run 1\"\n",
    "plotqual=\"run1_\"\n",
    "savedir = \"./plots_9_13_23/%s\" % plotqual\n",
    "plt.rcParams.update({'font.size': 14})\n",
    "datadir = \"/pnfs/sbn/persistent/users/gputnam/calib-data/outputs/\"\n",
    "# datadir = \"/icarus/data/users/gputnam/MCP2022G/mc/cosmic3/\"\n",
    "\n",
    "isMC = False\n",
    "dataf = datadir + \"P2_scaleYZ_Run1.txt\""
   ]
  },
  {
   "cell_type": "code",
   "execution_count": null,
   "id": "2",
   "metadata": {},
   "outputs": [],
   "source": [
    "yz_ybin = np.linspace(-180, 130, 32)\n",
    "yz_ylos = yz_ybin[:-1]\n",
    "yz_yhis = yz_ybin[1:]\n",
    "yz_ys = (yz_ylos + yz_yhis) / 2.\n",
    "\n",
    "yz_zbin = np.linspace(-900, 900, 181)\n",
    "yz_zlos = yz_zbin[:-1]\n",
    "yz_zhis = yz_zbin[1:]\n",
    "yz_zs = (yz_zlos + yz_zhis) / 2."
   ]
  },
  {
   "cell_type": "code",
   "execution_count": null,
   "id": "3",
   "metadata": {},
   "outputs": [],
   "source": [
    "tpcs = [\"EE\", \"EW\", \"WE\", \"WW\"]"
   ]
  },
  {
   "cell_type": "code",
   "execution_count": null,
   "id": "4",
   "metadata": {},
   "outputs": [],
   "source": [
    "zy_mpvs = {}\n",
    "zy_mpverrs = {}\n",
    "zy_Ns = {}\n",
    "\n",
    "for tpc in tpcs:\n",
    "    zy_mpvs[tpc] = []\n",
    "    zy_mpverrs[tpc] = []\n",
    "    zy_Ns[tpc] = []\n",
    "    for _ in yz_ys:\n",
    "        zy_mpvs[tpc].append([])\n",
    "        zy_mpverrs[tpc].append([])\n",
    "        zy_Ns[tpc].append([])\n",
    "        \n",
    "        for _ in yz_zs:\n",
    "            zy_mpvs[tpc][-1].append(-1)\n",
    "            zy_mpverrs[tpc][-1].append(-1)\n",
    "            zy_Ns[tpc][-1].append(-1)"
   ]
  },
  {
   "cell_type": "code",
   "execution_count": null,
   "id": "5",
   "metadata": {},
   "outputs": [],
   "source": [
    "with open(dataf) as f:\n",
    "    next(f)\n",
    "    for line in f:\n",
    "        dat = line.rstrip(\"\\n\").split(\"\\t\")\n",
    "        tpc = dat[0]\n",
    "        iy = int(dat[1])\n",
    "        iz = int(dat[2])\n",
    "        mpv = float(dat[4])\n",
    "        merr = float(dat[5])\n",
    "        N = int(float(dat[6]))\n",
    "        \n",
    "        zy_mpvs[tpc][iy][iz] = mpv\n",
    "        zy_mpverrs[tpc][iy][iz] = merr\n",
    "        zy_Ns[tpc][iy][iz] = N\n",
    "        "
   ]
  },
  {
   "cell_type": "code",
   "execution_count": null,
   "id": "6",
   "metadata": {},
   "outputs": [],
   "source": [
    "diffs = []\n",
    "\n",
    "for tpc in tpcs:\n",
    "    for iy in range(1, len(zy_mpvs[tpc])-1):\n",
    "        for iz in range(1, len(zy_mpvs[tpc][iy])-1):\n",
    "            this_mpv = zy_mpvs[tpc][iy][iz]\n",
    "            mean_diff = sum([\n",
    "                zy_mpvs[tpc][iy-1][iz],\n",
    "                zy_mpvs[tpc][iy+1][iz],\n",
    "                zy_mpvs[tpc][iy][iz-1],\n",
    "                zy_mpvs[tpc][iy][iz+1],\n",
    "            ])/4/this_mpv - 1\n",
    "            diffs.append(mean_diff)"
   ]
  },
  {
   "cell_type": "code",
   "execution_count": null,
   "id": "7",
   "metadata": {},
   "outputs": [],
   "source": [
    "def gaus(x, A, mu, sigma):\n",
    "    return A*np.exp(-(x-mu)**2/(2*sigma**2))"
   ]
  },
  {
   "cell_type": "code",
   "execution_count": null,
   "id": "8",
   "metadata": {},
   "outputs": [],
   "source": [
    "bins = np.linspace(-0.05, 0.05, 21)\n",
    "N,bins,_ = plt.hist(diffs, bins=bins)\n",
    "centers = (bins[1:] + bins[:-1]) / 2.\n",
    "\n",
    "popt, perr = curve_fit(gaus, centers, N, sigma=np.sqrt(N))\n",
    "\n",
    "pltcenter = np.linspace(centers[0], centers[-1], 1000)\n",
    "plt.plot(pltcenter, gaus(pltcenter, *popt))\n",
    "\n",
    "\n",
    "plt.xlabel(\"Spatial Variation in Y-Z Scale Factors\")\n",
    "plt.ylabel(\"# Bins\")\n",
    "plt.text(0.05, 0.9, \n",
    "         \"$\\\\sigma$: %.1f%%\" % (popt[-1]*100), \n",
    "         transform=plt.gca().transAxes, fontsize=14)\n",
    "\n",
    "plt.title(plttitle)\n",
    "\n",
    "if dosave:\n",
    "    plt.savefig(savedir + \"spatial_variation_yz.pdf\")\n",
    "popt[-1]*100"
   ]
  },
  {
   "cell_type": "code",
   "execution_count": null,
   "id": "9",
   "metadata": {},
   "outputs": [],
   "source": []
  }
 ],
 "metadata": {
  "kernelspec": {
   "display_name": "Python 3 (ipykernel)",
   "language": "python",
   "name": "python3"
  },
  "language_info": {
   "codemirror_mode": {
    "name": "ipython",
    "version": 3
   },
   "file_extension": ".py",
   "mimetype": "text/x-python",
   "name": "python",
   "nbconvert_exporter": "python",
   "pygments_lexer": "ipython3",
   "version": "3.9.2"
  }
 },
 "nbformat": 4,
 "nbformat_minor": 5
}
