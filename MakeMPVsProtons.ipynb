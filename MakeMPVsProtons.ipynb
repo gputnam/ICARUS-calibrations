{
 "cells": [
  {
   "cell_type": "code",
   "execution_count": null,
   "id": "145748c0",
   "metadata": {},
   "outputs": [],
   "source": [
    "1+1"
   ]
  },
  {
   "cell_type": "code",
   "execution_count": null,
   "id": "cf1b01dd",
   "metadata": {},
   "outputs": [],
   "source": [
    "%load_ext autoreload\n",
    "%autoreload 2\n",
    "\n",
    "import os\n",
    "import uproot\n",
    "import matplotlib.pyplot as plt\n",
    "import matplotlib.colors as colors\n",
    "import matplotlib.cbook as cbook\n",
    "from matplotlib.legend_handler import HandlerLine2D, HandlerTuple\n",
    "import numpy as np\n",
    "import pandas as pd\n",
    "from decimal import Decimal\n",
    "from scipy.stats import norm\n",
    "from scipy.optimize import curve_fit\n",
    "from scipy import stats\n",
    "import datetime as dt\n",
    "import scipy.optimize\n",
    "import landau\n",
    "from scipy.interpolate import CubicSpline, interp2d\n",
    "from scipy.integrate import quad\n",
    "from scipy.special import erf\n",
    "from numpy import linalg\n",
    "\n",
    "import importlib\n",
    "from multiprocessing import Pool\n",
    "\n",
    "from tqdm.auto import tqdm\n",
    "\n",
    "# local imports\n",
    "from lib.constants import *"
   ]
  },
  {
   "cell_type": "code",
   "execution_count": null,
   "id": "c098502d",
   "metadata": {},
   "outputs": [],
   "source": [
    "dosave = True\n",
    "savedir = \"./plots_9_13_23/blehhh\"\n",
    "\n",
    "isMC = True\n",
    "datadir = \"/icarus/data/users/gputnam/DMCP2023G/calib-data/\"\n",
    "\n",
    "# DATA\n",
    "# filedir = \"/icarus/data/users/gputnam/DMCP2023G/data/\"\n",
    "# f = filedir + \"numiRun1_unblind_reprodC_chi2u40_chi2p80_protonhit.df\"\n",
    "\n",
    "# MC\n",
    "# filedir = \"/icarus/data/users/gputnam/DMCP2023G/mc/\"\n",
    "# # f = filedir + \"numimc_miniprod_protonhit.df\"\n",
    "# # f = filedir + \"numimc_fitwvfkstunegain_protonhit.df\"\n",
    "# f = filedir + \"mcnuphase2_protonhit.df\"\n",
    "filedir = \"/icarus/data/users/gputnam/DMCP2023G/EMB/\"\n",
    "f = filedir + \"mcnuphase2F_fakeEMB_highgain2_protonhit.df\"\n",
    "datadir = filedir\n",
    "TRUE_NELEC = False\n",
    "\n",
    "\n",
    "plt.rcParams.update({'font.size': 14})\n",
    "colors = plt.rcParams['axes.prop_cycle'].by_key()['color']\n",
    "\n",
    "THXW_CORRECT = True\n",
    "cut_TPCEE = False"
   ]
  },
  {
   "cell_type": "code",
   "execution_count": null,
   "id": "2863ee42",
   "metadata": {},
   "outputs": [],
   "source": [
    "data = pd.read_hdf(f, key=\"phit\")"
   ]
  },
  {
   "cell_type": "code",
   "execution_count": null,
   "id": "4a162012",
   "metadata": {},
   "outputs": [],
   "source": [
    "data = data[data.rr < 30].copy()\n",
    "data"
   ]
  },
  {
   "cell_type": "code",
   "execution_count": null,
   "id": "ac19a519",
   "metadata": {},
   "outputs": [],
   "source": [
    "data.columns = [\"_\".join([cc for cc in c if cc]) if isinstance(c, tuple) else c for c in data.columns]"
   ]
  },
  {
   "cell_type": "code",
   "execution_count": null,
   "id": "2b3dd82e",
   "metadata": {},
   "outputs": [],
   "source": [
    "data[\"itpc\"] = data.cryostat*2 + data.tpc // 2"
   ]
  },
  {
   "cell_type": "code",
   "execution_count": null,
   "id": "809cee0c",
   "metadata": {},
   "outputs": [],
   "source": [
    "data[\"tpcEE\"] = data.itpc == 0\n",
    "data[\"tpcEW\"] = data.itpc == 1\n",
    "data[\"tpcWE\"] = data.itpc == 2\n",
    "data[\"tpcWW\"] = data.itpc == 3"
   ]
  },
  {
   "cell_type": "code",
   "execution_count": null,
   "id": "e670acc3",
   "metadata": {},
   "outputs": [],
   "source": [
    "def fid(data, iny=20, inz=50, inxcathode=15, inxanode=10):\n",
    "    ymax = 134\n",
    "    ymin = -180\n",
    "    \n",
    "    zmin = -900\n",
    "    zmax = 900\n",
    "    \n",
    "    # per-TPC xmin, xmax\n",
    "    xmin0 = -358.49\n",
    "    xmax0 = -210.29\n",
    "    xmin1 = -210.14\n",
    "    xmax1 = -61.94\n",
    "    \n",
    "    xmin2 = 61.94\n",
    "    xmax2 = 210.14\n",
    "    xmin3 = 210.29\n",
    "    xmax3 = 358.49\n",
    "    \n",
    "    fidX = ((data.x > xmin0 + inxanode) & (data.x < xmax0 - inxcathode)) |\\\n",
    "           ((data.x > xmin1 + inxcathode) & (data.x < xmax1 - inxanode)) |\\\n",
    "           ((data.x > xmin2 + inxanode) & (data.x < xmax2 - inxcathode)) |\\\n",
    "           ((data.x > xmin3 + inxcathode) & (data.x < xmax3 - inxanode))\n",
    "    \n",
    "    fid = (data.y > ymin + iny) & (data.y < ymax - iny)\\\n",
    "        & (data.z < zmax - inz) & (data.z > zmin + inz)\\\n",
    "        & fidX\n",
    "    \n",
    "    if not isMC:\n",
    "        # Cut out some problem regions in the detector\n",
    "        fid = fid & (np.abs(data.z) > 10)\n",
    "\n",
    "        # TPC EW -- not actually that bad\n",
    "#         bad_tpcEW = data.tpcEW & (data.z > 700) & (data.y < 0)\n",
    "        bad_tpcEW = False\n",
    "\n",
    "        # TPC WW\n",
    "        bad_tpcWW = data.tpcWW & (data.y > 80) & (data.z > 0)\n",
    "\n",
    "        fid = fid & ~bad_tpcEW & ~bad_tpcWW\n",
    "        \n",
    "    if cut_TPCEE: # is TPC EE borked?\n",
    "        fid = fid & ~data.tpcEE\n",
    "    \n",
    "    return fid"
   ]
  },
  {
   "cell_type": "code",
   "execution_count": null,
   "id": "dbf1ee6e",
   "metadata": {},
   "outputs": [],
   "source": [
    "data[\"fid\"] = fid(data)"
   ]
  },
  {
   "cell_type": "code",
   "execution_count": null,
   "id": "6653e06e",
   "metadata": {},
   "outputs": [],
   "source": [
    "CALS = {}\n",
    "\n",
    "# Divide out the gain in the input files\n",
    "if not isMC:\n",
    "#     with open(datadir + \"tpc_ratio_physicsdata.txt\") as f:\n",
    "#     with open(datadir + \"tpc_ratio_Run1.txt\") as f:\n",
    "#         for line in f:\n",
    "#             TPC, CAL = line.rstrip(\"\\n\").split(\" \")\n",
    "#             CALS[TPC] = float(CAL)\n",
    "#     print(CALS)\n",
    "    \n",
    "    # Gain\n",
    "#     gain_EE_old = 80.32\n",
    "#     gain_EW_old = 79.82\n",
    "#     gain_WE_old = 82.24\n",
    "#     gain_WW_old = 81.68\n",
    "\n",
    "#     CALS[\"EE\"] = CALS[\"EE\"] / gain_EE_old\n",
    "#     CALS[\"EW\"] = CALS[\"EW\"] / gain_EW_old\n",
    "#     CALS[\"WE\"] = CALS[\"WE\"] / gain_WE_old\n",
    "#     CALS[\"WW\"] = CALS[\"WW\"] / gain_WW_old\n",
    "    \n",
    "    CALS[\"EE\"] = 1\n",
    "    CALS[\"EW\"] = 1\n",
    "    CALS[\"WE\"] = 1\n",
    "    CALS[\"WW\"] = 1\n",
    "\n",
    "else:\n",
    "    CALS[\"MC\"] = 1.\n",
    "    if TRUE_NELEC:\n",
    "        CALS[\"MC\"] = 1/78.1\n",
    "\n",
    "CALS"
   ]
  },
  {
   "cell_type": "code",
   "execution_count": null,
   "id": "1ca7704f",
   "metadata": {},
   "outputs": [],
   "source": [
    "if isMC:\n",
    "#     data[\"dqdx_nom\"] = data.integral / data.pitch\n",
    "    data[\"dqdx_nom\"] = data.dqdx\n",
    "    if TRUE_NELEC:\n",
    "        data[\"dqdx_nom\"] = data.truth_h_nelec / data.pitch\n",
    "\n",
    "else:\n",
    "    data[\"dqdx_nom\"] = data.dqdx\n",
    "    \n",
    "data[\"phi\"] = np.arccos(np.abs(data.dir_x))*180/np.pi\n",
    "data[\"thxw\"] = np.abs(np.arctan(data.dir_x*data.pitch/0.3)*180/np.pi)"
   ]
  },
  {
   "cell_type": "code",
   "execution_count": null,
   "id": "51185b3d",
   "metadata": {},
   "outputs": [],
   "source": [
    "data[\"thit\"] = (data.t - 850)*0.4"
   ]
  },
  {
   "cell_type": "code",
   "execution_count": null,
   "id": "fd78b1e8",
   "metadata": {},
   "outputs": [],
   "source": [
    "data[\"CAL\"] = 0\n",
    "if not isMC:\n",
    "    data.loc[data.itpc == 0, \"CAL\"] = CALS[\"EE\"]\n",
    "    data.loc[data.itpc == 1, \"CAL\"] = CALS[\"EW\"]\n",
    "    data.loc[data.itpc == 2, \"CAL\"] = CALS[\"WE\"]\n",
    "    data.loc[data.itpc == 3, \"CAL\"] = CALS[\"WW\"]\n",
    "    #data[\"CAL\"] = 1\n",
    "else:\n",
    "    data.CAL = CALS[\"MC\"]\n",
    "    data[\"hsum\"] = data.integral\n",
    "    data[\"tsum\"] = data.integral\n",
    "    data.CAL = CALS[\"MC\"]*np.exp(data.thit/3e3)"
   ]
  },
  {
   "cell_type": "code",
   "execution_count": null,
   "id": "c1ee7f92",
   "metadata": {},
   "outputs": [],
   "source": [
    "data.dqdx = data.dqdx_nom * data.CAL"
   ]
  },
  {
   "cell_type": "code",
   "execution_count": null,
   "id": "6aeec69e",
   "metadata": {},
   "outputs": [],
   "source": [
    "# Whether to do angle correction\n",
    "if THXW_CORRECT:\n",
    "    thxws = np.array([5, 10, 20, 30, 40, 50, 60, 70])\n",
    "    if \"thxw_bin\" in data.columns:\n",
    "        del data[\"thxw_bin\"]\n",
    "    data[\"thxw_bin\"] = np.searchsorted(thxws, data.thxw.values) - 1\n",
    "    data = data[(data.thxw_bin >= 0 ) & (data.thxw_bin < (len(thxws)-1))].copy()\n",
    "    \n",
    "    if isMC:\n",
    "        correction = np.array([1.        , 0.99720325, 0.99156045, 0.98546707, 0.9793954 ,\n",
    "               0.97420377, 0.97335549])\n",
    "    else:\n",
    "        correction = np.array([1.        , 0.99610562, 0.99034266, 0.98329818, 0.97787762,\n",
    "               0.97512796, 0.97599466])\n",
    "        \n",
    "    data.dqdx = data.dqdx / correction[data.thxw_bin]"
   ]
  },
  {
   "cell_type": "code",
   "execution_count": null,
   "id": "77860217",
   "metadata": {},
   "outputs": [],
   "source": [
    "np.unique(correction[data.thxw_bin])"
   ]
  },
  {
   "cell_type": "code",
   "execution_count": null,
   "id": "ca0abcdc",
   "metadata": {},
   "outputs": [],
   "source": [
    "data.dqdx_nom / (data.dqdx / data.CAL)"
   ]
  },
  {
   "cell_type": "code",
   "execution_count": null,
   "id": "9bcddbd6",
   "metadata": {},
   "outputs": [],
   "source": [
    "rrs = np.array([25, 20, 15, 12.5, 10, 8, 6, 5, 4, 3.5, 3, 2.5, 2, 1.75, 1.5, 1.25, 1]) #, 2, 1])\n",
    "rrs = np.array([25, 20, 17, 14, 12, 10, 9, 8, 7, 6.25, 5.5, 4.75, 4, 3.5, 3, 2.5, 2])\n",
    "rrlos = rrs[1:]\n",
    "rrhis = rrs[:-1]\n",
    "rrvals = (rrlos + rrhis) / 2\n",
    "rrdiff = np.diff(rrs) / 2\n",
    "\n",
    "phis = np.array([30, 40, 50, 60, 70, 80, 85])\n",
    "phi_los = phis[:-1]\n",
    "phi_his = phis[1:]\n",
    "phi_vals = (phi_los + phi_his) / 2\n",
    "phi_diff = np.diff(phis) / 2\n",
    "\n",
    "philabels=[\"$%.0f^{\\\\circ} < \\\\phi < %.0f^{\\\\circ}$\" % t for t in zip(phi_los, phi_his)]\n",
    "lgnd_y = 1.45"
   ]
  },
  {
   "cell_type": "code",
   "execution_count": null,
   "id": "51328436",
   "metadata": {},
   "outputs": [],
   "source": [
    "def gaus(x, A, sigma, mu):\n",
    "    return A*np.exp(-(x-mu)**2/(2*sigma**2))\n",
    "\n",
    "def landau_gaus(X, A, eta, sigma, mpv):\n",
    "    sigma = np.minimum(sigma, 100*eta)\n",
    "    return landau.landau.gauss_landau(X, mpv, eta, sigma, A)\n",
    "\n",
    "def opt_to_mpv(popt, perr):\n",
    "    mpv = popt[-1] - 0.22278*popt[1]\n",
    "    mpv_err = np.sqrt(np.diag(perr)[-1] + (0.22278)**2*np.diag(perr)[1] - 0.22278*(perr[-1,1] + perr[1,-1]))\n",
    "    return mpv, mpv_err"
   ]
  },
  {
   "cell_type": "code",
   "execution_count": null,
   "id": "2896d2bd",
   "metadata": {},
   "outputs": [],
   "source": [
    "data.fid.sum()"
   ]
  },
  {
   "cell_type": "code",
   "execution_count": null,
   "id": "cd31fdba",
   "metadata": {},
   "outputs": [],
   "source": [
    "dqdx_mean = []\n",
    "dqdx_mean_err = []\n",
    "var = data.dqdx\n",
    "\n",
    "ifig = 0\n",
    "for i, (rrlo, rrhi) in enumerate(zip(rrlos, rrhis)):\n",
    "    dqdx_mean.append([])\n",
    "    dqdx_mean_err.append([])\n",
    "    plt.figure(ifig)\n",
    "    for j, (plo, phi) in enumerate(zip(phi_los, phi_his)):            \n",
    "        whenplt = data.fid &\\\n",
    "            (data.rr > rrlo) & (data.rr < rrhi) &\\\n",
    "            (data.phi > plo) & (data.phi < phi)\n",
    "        \n",
    "        _,bins,_ = plt.hist(var[whenplt], bins=np.linspace(0, 5e3, 50), \n",
    "                     label=philabels[j], color=colors[j],\n",
    "                    histtype=\"step\", density=False)\n",
    "        Nfit,bins = np.histogram(data.dqdx[whenplt], bins=bins)\n",
    "        centers = (bins[:-1] + bins[1:]) / 2\n",
    "        \n",
    "        where_fit = (np.abs(np.array(list(range(Nfit.size))) - np.argmax(Nfit)) < 8) & (Nfit > 1)\n",
    "        \n",
    "        p0 = [np.max(Nfit)*200, 100, 150, centers[np.argmax(Nfit)]]\n",
    "        p0 = [np.max(Nfit)*200, 25, 150, centers[np.argmax(Nfit)]]\n",
    "        \n",
    "        popt, perr = curve_fit(landau_gaus, centers[where_fit], Nfit[where_fit], \n",
    "                               p0=p0, \n",
    "                               sigma=np.maximum(np.sqrt(Nfit), 1)[where_fit], absolute_sigma=True, maxfev=100_000)\n",
    "        mean, meanerr = opt_to_mpv(popt, perr)        \n",
    "        plt.plot(centers, landau_gaus(centers, *popt), color=colors[j])\n",
    "        \n",
    "        dqdx_mean[-1].append(mean)\n",
    "        dqdx_mean_err[-1].append(meanerr)\n",
    "        \n",
    "    ifig += 1\n",
    "    plt.legend(ncol=2, loc='upper center', bbox_to_anchor=(0.5, lgnd_y))\n",
    "    \n",
    "    txt_x = 0.5 if rrlo > 5 else 0.05\n",
    "    \n",
    "    plt.text(txt_x, 0.5, \"Protons\\n%.1f < R.R. < %.1f cm\\n0.3 < pitch < 1 cm\\n$5^\\\\circ < \\\\theta_{xw} < 70^\\\\circ$\" % (rrlo, rrhi), \n",
    "             transform=plt.gca().transAxes)\n",
    "    plt.xlabel(\"dQ/dx [ADC/cm]\")\n",
    "    plt.ylabel(\"Hits\")\n",
    "    \n",
    "    #mean_list = [\"%.1f < |$\\\\hat{x}$| < %.1f: %.0f ke$^-$/cm\" % (dlo, dhi, m/1e3) for (dlo, dhi, m) in zip(dir_xlos, dir_xhis, dqdx_mean[-1])]\n",
    "    #plt.text(txt_x, 0.05, \"Mean dQ/dx:\\n\" + \"\\n\".join(mean_list),\n",
    "    #         transform=plt.gca().transAxes, fontsize=10)\n",
    "    if dosave:\n",
    "        plt.savefig(savedir + \"dqdx_%iRR%i_hits.pdf\" % (int(rrlo), int(rrhi)),\n",
    "                   bbox_inches=\"tight\")\n",
    "    \n",
    "dqdx_mean = np.array(dqdx_mean)\n",
    "dqdx_mean_err = np.array(dqdx_mean_err)\n",
    "    \n",
    "    \n",
    "dqdx_mean_uncorr = dqdx_mean"
   ]
  },
  {
   "cell_type": "code",
   "execution_count": null,
   "id": "01b0c276",
   "metadata": {},
   "outputs": [],
   "source": [
    "# if isMC:\n",
    "#     debias = np.array([0.97060827, 0.97295713, 0.97659747, 0.98638114, 0.99418072, 1.        ])\n",
    "# else:\n",
    "#     debias = np.array([0.97052393, 0.97282666, 0.97705924, 0.98331222, 0.99248394, 1.        ])\n",
    "# dqdx_mean = dqdx_mean_uncorr / debias"
   ]
  },
  {
   "cell_type": "code",
   "execution_count": null,
   "id": "6f9aaab4",
   "metadata": {},
   "outputs": [],
   "source": [
    "dqdx_mean = dqdx_mean_uncorr # THXW Correction applied"
   ]
  },
  {
   "cell_type": "code",
   "execution_count": null,
   "id": "928d1161",
   "metadata": {},
   "outputs": [],
   "source": [
    "rrdiff"
   ]
  },
  {
   "cell_type": "code",
   "execution_count": null,
   "id": "a2fc2f71",
   "metadata": {},
   "outputs": [],
   "source": [
    "for i, label in enumerate(philabels):\n",
    "    plt.errorbar(rrvals, dqdx_mean[:, i], xerr=np.abs(rrdiff), yerr=dqdx_mean_err[:, i], \n",
    "                 linestyle=\"none\", label=label)\n",
    "plt.legend(ncol=2, loc='upper center', bbox_to_anchor=(0.5, 1.45))\n",
    "plt.xlabel(\"Residual Range [cm]\")\n",
    "plt.ylabel(\"dQ/dx [$e^-$/cm]\")\n",
    "if dosave:\n",
    "    plt.savefig(savedir + \"dqdx_RR_hits.pdf\",\n",
    "               bbox_inches=\"tight\")"
   ]
  },
  {
   "cell_type": "code",
   "execution_count": null,
   "id": "474d5f69",
   "metadata": {},
   "outputs": [],
   "source": [
    "for i, label in enumerate(philabels):\n",
    "    plt.errorbar(rrvals, dqdx_mean[:, i] / dqdx_mean[:, -1], xerr=np.abs(rrdiff), yerr=dqdx_mean_err[:, i]/ dqdx_mean[:, -1], \n",
    "                 linestyle=\"none\", label=label)\n",
    "plt.legend(ncol=2, loc='upper center', bbox_to_anchor=(0.5, lgnd_y))\n",
    "plt.xlabel(\"Residual Range [cm]\")\n",
    "plt.ylabel(\"dQ/dx Angular Ratio\")\n",
    "if dosave:\n",
    "    plt.savefig(savedir + \"dqdxratio_RR_hits.pdf\",\n",
    "               bbox_inches=\"tight\")"
   ]
  },
  {
   "cell_type": "code",
   "execution_count": null,
   "id": "fa73c47f",
   "metadata": {},
   "outputs": [],
   "source": [
    "mpv_df = pd.DataFrame(\n",
    "    columns = [\n",
    "        \"rr\",\n",
    "        \"rrlo\",\n",
    "        \"rrhi\",\n",
    "        \"pitch\",\n",
    "        \"pitchlo\",\n",
    "        \"pitchhi\",\n",
    "        \"mpv\",\n",
    "        \"mpv_err\",\n",
    "        \"phi\",\n",
    "        \"philo\",\n",
    "        \"phihi\",\n",
    "        \"tdrift\"\n",
    "    ]\n",
    ")"
   ]
  },
  {
   "cell_type": "code",
   "execution_count": null,
   "id": "d746d45c",
   "metadata": {},
   "outputs": [],
   "source": [
    "for i, (rrlo, rrhi) in enumerate(zip(rrlos, rrhis)):\n",
    "    for j, (plo, phi) in enumerate(zip(phi_los, phi_his)):\n",
    "        when = data.fid &\\\n",
    "            (data.rr > rrlo) & (data.rr < rrhi) &\\\n",
    "            (data.phi > plo) & (data.phi < phi)\n",
    "        \n",
    "        mpv = dqdx_mean[i, j]\n",
    "        mpv_err = dqdx_mean_err[i, j]\n",
    "        pitch = np.mean(data.pitch[when])\n",
    "        pitch_std = np.std(data.pitch[when])\n",
    "        \n",
    "        row = {\n",
    "            \"rr\": (rrlo + rrhi) / 2.,\n",
    "            \"rrlo\": rrlo,\n",
    "            \"rrhi\": rrhi,\n",
    "            \"pitch\": pitch,\n",
    "            \"pitchlo\": pitch - pitch_std,\n",
    "            \"pitchhi\": pitch + pitch_std,\n",
    "            \"mpv\": mpv,\n",
    "            \"mpv_err\": mpv_err,\n",
    "            \"phi\": (plo + phi) / 2,\n",
    "            \"philo\": plo,\n",
    "            \"phihi\": phi,\n",
    "            \"tdrift\": 500,\n",
    "            \"tlo\": 0,\n",
    "            \"thi\": 1000,\n",
    "        }\n",
    "        for k in row.keys():\n",
    "            row[k] = [row[k]]\n",
    "        \n",
    "        mpv_df = pd.concat([mpv_df, pd.DataFrame(row)], ignore_index=True)\n",
    "        "
   ]
  },
  {
   "cell_type": "code",
   "execution_count": null,
   "id": "76a20521",
   "metadata": {},
   "outputs": [],
   "source": [
    "mpv_df = mpv_df.infer_objects()"
   ]
  },
  {
   "cell_type": "code",
   "execution_count": null,
   "id": "650fffb0",
   "metadata": {},
   "outputs": [],
   "source": [
    "if dosave:\n",
    "     mpv_df.to_hdf(datadir + \"mcnuphase2F-fakeEMB2-mpvs.df\", key=\"df\")"
   ]
  },
  {
   "cell_type": "code",
   "execution_count": null,
   "id": "fafde3a5",
   "metadata": {},
   "outputs": [],
   "source": [
    "mpv_df"
   ]
  },
  {
   "cell_type": "code",
   "execution_count": null,
   "id": "2a124112",
   "metadata": {},
   "outputs": [],
   "source": [
    "datadir + \"mcnuphase2F-fakeEMB-mpvs.df\""
   ]
  },
  {
   "cell_type": "code",
   "execution_count": null,
   "id": "e3ea3deb",
   "metadata": {},
   "outputs": [],
   "source": [
    "datadir"
   ]
  },
  {
   "cell_type": "code",
   "execution_count": null,
   "id": "9cbfa73f",
   "metadata": {},
   "outputs": [],
   "source": []
  }
 ],
 "metadata": {
  "kernelspec": {
   "display_name": "Python 3 (ipykernel)",
   "language": "python",
   "name": "python3"
  },
  "language_info": {
   "codemirror_mode": {
    "name": "ipython",
    "version": 3
   },
   "file_extension": ".py",
   "mimetype": "text/x-python",
   "name": "python",
   "nbconvert_exporter": "python",
   "pygments_lexer": "ipython3",
   "version": "3.9.2"
  }
 },
 "nbformat": 4,
 "nbformat_minor": 5
}
